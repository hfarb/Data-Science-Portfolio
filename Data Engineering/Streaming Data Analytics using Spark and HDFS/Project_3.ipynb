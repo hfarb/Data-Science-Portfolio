{
 "cells": [
  {
   "cell_type": "markdown",
   "metadata": {},
   "source": [
    "# Project 3"
   ]
  },
  {
   "cell_type": "markdown",
   "metadata": {},
   "source": [
    "## **0. Summary of Commands for Every Week of Project**\n",
    "#### 1) Cd into the Right Directory \n",
    "    cd ~/w205/project-3-hfarb\n",
    "    \n",
    "#### 2) Commands to Bring Up the Cluster and See if it is Up\n",
    "    docker-compose up -d\n",
    "    docker-compose ps\n",
    "    docker ps -a\n",
    "#### 3) Command to Create the Kafka Topic Events\n",
    "    docker-compose exec kafka kafka-topics --create --topic events --partitions 1 --replication-factor 1 --if-not-   exists --zookeeper zookeeper:32181\n",
    "\n",
    "#### 4) Start Flask Server\n",
    "    docker-compose exec mids env FLASK_APP=/w205/project-3-hfarb/game_api.py flask run --host 0.0.0.0\n",
    "#### 5) Run Individual Apache Bench Commands \n",
    "     Each week is different:\n",
    "     Week 11: \n",
    "      docker-compose exec mids curl http://localhost:5000/\n",
    "      docker-compose exec mids curl http://localhost:5000/purchase_a_sword\n",
    "      docker-compose exec mids curl http://localhost:5000/buy_a_sword\n",
    "      docker-compose exec mids curl http://localhost:5000/join_a_guild\n",
    "      \n",
    "     Week 12: Add different metta data to game_api\n",
    "      docker-compose exec mids ab -n 10 -H \"Host: user1.comcast.com\" http://localhost:5000/\n",
    "      docker-compose exec mids ab -n 10 -H \"Host: user1.comcast.com\" http://localhost:5000/purchase_a_sword\n",
    "      docker-compose exec mids ab -n 10 -H \"Host: user1.comcast.com\" http://localhost:5000/buy_a_sword\n",
    "      docker-compose exec mids ab -n 10 -H \"Host: user1.comcast.com\" http://localhost:5000/join_a_guild\n",
    "\n",
    "      docker-compose exec mids ab -n 10 -H \"Host: user2.att.com\" http://localhost:5000/\n",
    "      docker-compose exec mids ab -n 10 -H \"Host: user2.att.com\" http://localhost:5000/purchase_a_sword\n",
    "      docker-compose exec mids ab -n 10 -H \"Host: user2.att.com\" http://localhost:5000/buy_a_sword\n",
    "      docker-compose exec mids ab -n 10 -H \"Host: user2.att.com\" http://localhost:5000/join_a_guild\n",
    "      \n",
    "     Week 13: \n",
    "      docker-compose exec mids ab -n 10 -H \"Host: user1.comcast.com\" http://localhost:5000/\n",
    "      docker-compose exec mids ab -n 10 -H \"Host: user1.comcast.com\" http://localhost:5000/purchase_a_sword\n",
    "      docker-compose exec mids ab -n 10 -H \"Host: user1.comcast.com\" http://localhost:5000/buy_a_sword\n",
    "      docker-compose exec mids ab -n 10 -H \"Host: user1.comcast.com\" http://localhost:5000/join_a_guild\n",
    "\n",
    "      docker-compose exec mids ab -n 10 -H \"Host: user2.att.com\" http://localhost:5000/\n",
    "      docker-compose exec mids ab -n 10 -H \"Host: user2.att.com\" http://localhost:5000/purchase_a_sword\n",
    "      docker-compose exec mids ab -n 10 -H \"Host: user2.att.com\" http://localhost:5000/buy_a_sword\n",
    "      docker-compose exec mids ab -n 10 -H \"Host: user2.att.com\" http://localhost:5000/join_a_guild\n",
    "#### 6) In week 13 for Streaming Data: Infinite Loop to Run the Apache Bench Command\n",
    "    while true; do docker-compose exec mids ab -n 10 -H \"Host: user1.comcast.com\" http://localhost:5000/purchase_a_sword; done\n",
    "\n",
    "#### 7) Set up to Watch kafka\n",
    "     docker-compose exec mids kafkacat -C -b kafka:29092 -t events -o beginning -e     \n",
    "\n",
    "#### 8)  Create a symbolic link in the Spark container to the /205 mount point\n",
    "     docker-compose exec spark bash\n",
    "     ln -s /w205 w205\n",
    "     exit \n",
    "\n",
    "#### 9) Run an Enhanced Version of the Pyspark Command Line to Target Jupyter Notebook\n",
    "    docker-compose exec spark env PYSPARK_DRIVER_PYTHON=jupyter PYSPARK_DRIVER_PYTHON_OPTS='notebook --no-browser --port 8888 --ip 0.0.0.0 --allow-root' pyspark\n",
    "\n",
    "#### 10) Change 0.0.0.0 to the External Ip Address for your Google Cloud Virtual Machine and Open Incognito Browser\n",
    "    34.82.86.53\n",
    "    http://34.82.86.53:8888/?token=7f7c04aaa9b3a3c796f79b4f30d4d1073558741f0e5fb433\n",
    "\n",
    "#### 11) In Week 13 for Streaming Data: Hive command to create an external table for schema on read\n",
    "     docker-compose exec cloudera hive\n",
    "     create external table if not exists default.sword_purchases (Accept string, Host string, User_Agent string, event_type string, timestamp string) stored as parquet location '/tmp/sword_purchases'  tblproperties (\"parquet.compress\"=\"SNAPPY\");\n",
    "\n",
    "#### 12) In Week 13 for Streaming Data:  Run presto so you can query against the external table \n",
    "     docker-compose exec presto presto --server presto:8080 --catalog hive --schema default\n",
    "     \n",
    "#### 13) Shutdown the Cluster and Make Sure it Shut Down Correctly \n",
    "     docker-compose down \n",
    "     docker-compose ps\n",
    "     docker ps -a"
   ]
  },
  {
   "cell_type": "markdown",
   "metadata": {},
   "source": [
    "#### After week 11"
   ]
  },
  {
   "cell_type": "code",
   "execution_count": 1,
   "metadata": {
    "collapsed": true
   },
   "outputs": [],
   "source": [
    "import json\n",
    "from pyspark.sql import Row\n",
    "from pyspark.sql.functions import udf"
   ]
  },
  {
   "cell_type": "code",
   "execution_count": 2,
   "metadata": {},
   "outputs": [
    {
     "data": {
      "text/html": [
       "\n",
       "            <div>\n",
       "                <p><b>SparkSession - hive</b></p>\n",
       "                \n",
       "        <div>\n",
       "            <p><b>SparkContext</b></p>\n",
       "\n",
       "            <p><a href=\"http://172.18.0.6:4040\">Spark UI</a></p>\n",
       "\n",
       "            <dl>\n",
       "              <dt>Version</dt>\n",
       "                <dd><code>v2.2.0</code></dd>\n",
       "              <dt>Master</dt>\n",
       "                <dd><code>local[*]</code></dd>\n",
       "              <dt>AppName</dt>\n",
       "                <dd><code>PySparkShell</code></dd>\n",
       "            </dl>\n",
       "        </div>\n",
       "        \n",
       "            </div>\n",
       "        "
      ],
      "text/plain": [
       "<pyspark.sql.session.SparkSession at 0x7f92000fccc0>"
      ]
     },
     "execution_count": 2,
     "metadata": {},
     "output_type": "execute_result"
    }
   ],
   "source": [
    "spark"
   ]
  },
  {
   "cell_type": "code",
   "execution_count": 3,
   "metadata": {
    "collapsed": true
   },
   "outputs": [],
   "source": [
    "@udf('string')\n",
    "def munge_event(event_as_json):\n",
    "    event = json.loads(event_as_json)\n",
    "    event['Host'] = \"moe\"\n",
    "    event['Cache-Control'] = \"no-cache\"\n",
    "    return json.dumps(event)"
   ]
  },
  {
   "cell_type": "code",
   "execution_count": 4,
   "metadata": {
    "collapsed": true
   },
   "outputs": [],
   "source": [
    " raw_events = spark \\\n",
    "        .read \\\n",
    "        .format(\"kafka\") \\\n",
    "        .option(\"kafka.bootstrap.servers\", \"kafka:29092\") \\\n",
    "        .option(\"subscribe\", \"events\") \\\n",
    "        .option(\"startingOffsets\", \"earliest\") \\\n",
    "        .option(\"endingOffsets\", \"latest\") \\\n",
    "        .load()"
   ]
  },
  {
   "cell_type": "code",
   "execution_count": 5,
   "metadata": {},
   "outputs": [
    {
     "name": "stdout",
     "output_type": "stream",
     "text": [
      "+----+--------------------+------+---------+------+--------------------+-------------+\n",
      "| key|               value| topic|partition|offset|           timestamp|timestampType|\n",
      "+----+--------------------+------+---------+------+--------------------+-------------+\n",
      "|null|[7B 22 48 6F 73 7...|events|        0|     0|2020-12-05 19:30:...|            0|\n",
      "|null|[7B 22 48 6F 73 7...|events|        0|     1|2020-12-05 19:30:...|            0|\n",
      "|null|[7B 22 48 6F 73 7...|events|        0|     2|2020-12-05 19:30:...|            0|\n",
      "|null|[7B 22 48 6F 73 7...|events|        0|     3|2020-12-05 19:30:...|            0|\n",
      "+----+--------------------+------+---------+------+--------------------+-------------+\n",
      "\n"
     ]
    }
   ],
   "source": [
    "raw_events.show()"
   ]
  },
  {
   "cell_type": "code",
   "execution_count": 6,
   "metadata": {
    "collapsed": true
   },
   "outputs": [],
   "source": [
    " munged_events = raw_events \\\n",
    "        .select(raw_events.value.cast('string').alias('raw'),\n",
    "                raw_events.timestamp.cast('string')) \\\n",
    "        .withColumn('munged', munge_event('raw'))"
   ]
  },
  {
   "cell_type": "code",
   "execution_count": 7,
   "metadata": {},
   "outputs": [
    {
     "name": "stdout",
     "output_type": "stream",
     "text": [
      "+--------------------+--------------------+--------------------+\n",
      "|                 raw|           timestamp|              munged|\n",
      "+--------------------+--------------------+--------------------+\n",
      "|{\"Host\": \"localho...|2020-12-05 19:30:...|{\"Host\": \"moe\", \"...|\n",
      "|{\"Host\": \"localho...|2020-12-05 19:30:...|{\"Host\": \"moe\", \"...|\n",
      "|{\"Host\": \"localho...|2020-12-05 19:30:...|{\"Host\": \"moe\", \"...|\n",
      "|{\"Host\": \"localho...|2020-12-05 19:30:...|{\"Host\": \"moe\", \"...|\n",
      "+--------------------+--------------------+--------------------+\n",
      "\n"
     ]
    }
   ],
   "source": [
    "munged_events.show()"
   ]
  },
  {
   "cell_type": "code",
   "execution_count": 8,
   "metadata": {
    "collapsed": true
   },
   "outputs": [],
   "source": [
    "extracted_events = munged_events \\\n",
    "        .rdd \\\n",
    "        .map(lambda r: Row(timestamp=r.timestamp, **json.loads(r.munged))) \\\n",
    "        .toDF()"
   ]
  },
  {
   "cell_type": "code",
   "execution_count": 9,
   "metadata": {},
   "outputs": [
    {
     "name": "stdout",
     "output_type": "stream",
     "text": [
      "+------+-------------+----+-----------+--------------+--------------------+\n",
      "|Accept|Cache-Control|Host| User-Agent|    event_type|           timestamp|\n",
      "+------+-------------+----+-----------+--------------+--------------------+\n",
      "|   */*|     no-cache| moe|curl/7.47.0|       default|2020-12-05 19:30:...|\n",
      "|   */*|     no-cache| moe|curl/7.47.0|purchase_sword|2020-12-05 19:30:...|\n",
      "|   */*|     no-cache| moe|curl/7.47.0|     buy_sword|2020-12-05 19:30:...|\n",
      "|   */*|     no-cache| moe|curl/7.47.0|    join_guild|2020-12-05 19:30:...|\n",
      "+------+-------------+----+-----------+--------------+--------------------+\n",
      "\n"
     ]
    }
   ],
   "source": [
    "extracted_events.show()"
   ]
  },
  {
   "cell_type": "code",
   "execution_count": 10,
   "metadata": {
    "collapsed": true
   },
   "outputs": [],
   "source": [
    " sword_purchases = extracted_events \\\n",
    "        .filter(extracted_events.event_type == 'purchase_sword')"
   ]
  },
  {
   "cell_type": "code",
   "execution_count": 11,
   "metadata": {},
   "outputs": [
    {
     "name": "stdout",
     "output_type": "stream",
     "text": [
      "+------+-------------+----+-----------+--------------+--------------------+\n",
      "|Accept|Cache-Control|Host| User-Agent|    event_type|           timestamp|\n",
      "+------+-------------+----+-----------+--------------+--------------------+\n",
      "|   */*|     no-cache| moe|curl/7.47.0|purchase_sword|2020-12-05 19:30:...|\n",
      "+------+-------------+----+-----------+--------------+--------------------+\n",
      "\n"
     ]
    }
   ],
   "source": [
    "sword_purchases.show()"
   ]
  },
  {
   "cell_type": "code",
   "execution_count": 12,
   "metadata": {
    "collapsed": true
   },
   "outputs": [],
   "source": [
    "default_hits = extracted_events \\\n",
    "        .filter(extracted_events.event_type == 'default')"
   ]
  },
  {
   "cell_type": "code",
   "execution_count": 13,
   "metadata": {},
   "outputs": [
    {
     "name": "stdout",
     "output_type": "stream",
     "text": [
      "+------+-------------+----+-----------+----------+--------------------+\n",
      "|Accept|Cache-Control|Host| User-Agent|event_type|           timestamp|\n",
      "+------+-------------+----+-----------+----------+--------------------+\n",
      "|   */*|     no-cache| moe|curl/7.47.0|   default|2020-12-05 19:30:...|\n",
      "+------+-------------+----+-----------+----------+--------------------+\n",
      "\n"
     ]
    }
   ],
   "source": [
    "default_hits.show()"
   ]
  },
  {
   "cell_type": "markdown",
   "metadata": {
    "collapsed": true
   },
   "source": [
    "### After Week 12"
   ]
  },
  {
   "cell_type": "markdown",
   "metadata": {},
   "source": [
    "After week 12, we need to modify the game_api.py file to add different meta data. Add type of sword is silver, sword length is short, and guild name is farber.\n",
    "\n",
    "@app.route(\"/purchase_a_sword\")\n",
    "def purchase_a_sword():\n",
    "    purchase_sword_event = {'event_type': 'purchase_sword',\n",
    "                            'sword_type': 'silver'}\n",
    "    log_to_kafka('events', purchase_sword_event)\n",
    "    return \"Sword Purchased!\\n\"\n",
    "\n",
    "@app.route(\"/buy_a_sword\")\n",
    "def buy_a_sword():\n",
    "    buy_sword_event = {'event_type': 'buy_sword',\n",
    "                       'sword_length': 'short'}\n",
    "    log_to_kafka('events', buy_sword_event)\n",
    "    return \"Sword Bought!\\n\"\n",
    "\n",
    "@app.route(\"/join_a_guild\")\n",
    "def join_guild():\n",
    "    join_guild_event = {'event_type': 'join_guild',\n",
    "                        'guild_name': 'farber'}\n",
    "    log_to_kafka('events', join_guild_event)\n",
    "    return \"Guild Joined!\\n\"\n"
   ]
  },
  {
   "cell_type": "markdown",
   "metadata": {},
   "source": [
    "#### Code from filtered_writes.py"
   ]
  },
  {
   "cell_type": "code",
   "execution_count": 1,
   "metadata": {
    "collapsed": true
   },
   "outputs": [],
   "source": [
    "import json\n",
    "from pyspark.sql import Row\n",
    "from pyspark.sql.functions import udf"
   ]
  },
  {
   "cell_type": "code",
   "execution_count": 2,
   "metadata": {
    "collapsed": true
   },
   "outputs": [],
   "source": [
    "@udf('boolean')\n",
    "def is_purchase(event_as_json):\n",
    "    event = json.loads(event_as_json)\n",
    "    if event['event_type'] == 'purchase_sword':\n",
    "        return True\n",
    "    return False"
   ]
  },
  {
   "cell_type": "code",
   "execution_count": 3,
   "metadata": {},
   "outputs": [
    {
     "data": {
      "text/html": [
       "\n",
       "            <div>\n",
       "                <p><b>SparkSession - hive</b></p>\n",
       "                \n",
       "        <div>\n",
       "            <p><b>SparkContext</b></p>\n",
       "\n",
       "            <p><a href=\"http://172.18.0.6:4040\">Spark UI</a></p>\n",
       "\n",
       "            <dl>\n",
       "              <dt>Version</dt>\n",
       "                <dd><code>v2.2.0</code></dd>\n",
       "              <dt>Master</dt>\n",
       "                <dd><code>local[*]</code></dd>\n",
       "              <dt>AppName</dt>\n",
       "                <dd><code>PySparkShell</code></dd>\n",
       "            </dl>\n",
       "        </div>\n",
       "        \n",
       "            </div>\n",
       "        "
      ],
      "text/plain": [
       "<pyspark.sql.session.SparkSession at 0x7f01a8350cc0>"
      ]
     },
     "execution_count": 3,
     "metadata": {},
     "output_type": "execute_result"
    }
   ],
   "source": [
    "spark"
   ]
  },
  {
   "cell_type": "code",
   "execution_count": 4,
   "metadata": {
    "collapsed": true
   },
   "outputs": [],
   "source": [
    "raw_events = spark \\\n",
    "        .read \\\n",
    "        .format(\"kafka\") \\\n",
    "        .option(\"kafka.bootstrap.servers\", \"kafka:29092\") \\\n",
    "        .option(\"subscribe\", \"events\") \\\n",
    "        .option(\"startingOffsets\", \"earliest\") \\\n",
    "        .option(\"endingOffsets\", \"latest\") \\\n",
    "        .load()"
   ]
  },
  {
   "cell_type": "code",
   "execution_count": 5,
   "metadata": {
    "collapsed": true
   },
   "outputs": [],
   "source": [
    "purchase_events = raw_events \\\n",
    "        .select(raw_events.value.cast('string').alias('raw'),\n",
    "                raw_events.timestamp.cast('string')) \\\n",
    "        .filter(is_purchase('raw'))"
   ]
  },
  {
   "cell_type": "code",
   "execution_count": 6,
   "metadata": {
    "collapsed": true
   },
   "outputs": [],
   "source": [
    "extracted_purchase_events = purchase_events \\\n",
    "        .rdd \\\n",
    "        .map(lambda r: Row(timestamp=r.timestamp, **json.loads(r.raw))) \\\n",
    "        .toDF()"
   ]
  },
  {
   "cell_type": "code",
   "execution_count": 7,
   "metadata": {},
   "outputs": [
    {
     "name": "stdout",
     "output_type": "stream",
     "text": [
      "root\n",
      " |-- Accept: string (nullable = true)\n",
      " |-- Host: string (nullable = true)\n",
      " |-- User-Agent: string (nullable = true)\n",
      " |-- event_type: string (nullable = true)\n",
      " |-- sword_type: string (nullable = true)\n",
      " |-- timestamp: string (nullable = true)\n",
      "\n"
     ]
    }
   ],
   "source": [
    "extracted_purchase_events.printSchema()"
   ]
  },
  {
   "cell_type": "code",
   "execution_count": 8,
   "metadata": {},
   "outputs": [
    {
     "name": "stdout",
     "output_type": "stream",
     "text": [
      "+------+-----------------+---------------+--------------+----------+--------------------+\n",
      "|Accept|             Host|     User-Agent|    event_type|sword_type|           timestamp|\n",
      "+------+-----------------+---------------+--------------+----------+--------------------+\n",
      "|   */*|user1.comcast.com|ApacheBench/2.3|purchase_sword|    silver|2020-12-08 20:12:...|\n",
      "|   */*|user1.comcast.com|ApacheBench/2.3|purchase_sword|    silver|2020-12-08 20:12:...|\n",
      "|   */*|user1.comcast.com|ApacheBench/2.3|purchase_sword|    silver|2020-12-08 20:12:...|\n",
      "|   */*|user1.comcast.com|ApacheBench/2.3|purchase_sword|    silver|2020-12-08 20:12:...|\n",
      "|   */*|user1.comcast.com|ApacheBench/2.3|purchase_sword|    silver|2020-12-08 20:12:...|\n",
      "|   */*|user1.comcast.com|ApacheBench/2.3|purchase_sword|    silver|2020-12-08 20:12:...|\n",
      "|   */*|user1.comcast.com|ApacheBench/2.3|purchase_sword|    silver|2020-12-08 20:12:...|\n",
      "|   */*|user1.comcast.com|ApacheBench/2.3|purchase_sword|    silver|2020-12-08 20:12:...|\n",
      "|   */*|user1.comcast.com|ApacheBench/2.3|purchase_sword|    silver|2020-12-08 20:12:...|\n",
      "|   */*|user1.comcast.com|ApacheBench/2.3|purchase_sword|    silver|2020-12-08 20:12:...|\n",
      "|   */*|    user2.att.com|ApacheBench/2.3|purchase_sword|    silver|2020-12-08 20:14:...|\n",
      "|   */*|    user2.att.com|ApacheBench/2.3|purchase_sword|    silver|2020-12-08 20:14:...|\n",
      "|   */*|    user2.att.com|ApacheBench/2.3|purchase_sword|    silver|2020-12-08 20:14:...|\n",
      "|   */*|    user2.att.com|ApacheBench/2.3|purchase_sword|    silver|2020-12-08 20:14:...|\n",
      "|   */*|    user2.att.com|ApacheBench/2.3|purchase_sword|    silver|2020-12-08 20:14:...|\n",
      "|   */*|    user2.att.com|ApacheBench/2.3|purchase_sword|    silver|2020-12-08 20:14:...|\n",
      "|   */*|    user2.att.com|ApacheBench/2.3|purchase_sword|    silver|2020-12-08 20:14:...|\n",
      "|   */*|    user2.att.com|ApacheBench/2.3|purchase_sword|    silver|2020-12-08 20:14:...|\n",
      "|   */*|    user2.att.com|ApacheBench/2.3|purchase_sword|    silver|2020-12-08 20:14:...|\n",
      "|   */*|    user2.att.com|ApacheBench/2.3|purchase_sword|    silver|2020-12-08 20:14:...|\n",
      "+------+-----------------+---------------+--------------+----------+--------------------+\n",
      "\n"
     ]
    }
   ],
   "source": [
    "extracted_purchase_events.show()"
   ]
  },
  {
   "cell_type": "code",
   "execution_count": 9,
   "metadata": {
    "collapsed": true
   },
   "outputs": [],
   "source": [
    "extracted_purchase_events \\\n",
    "        .write \\\n",
    "        .mode('overwrite') \\\n",
    "        .parquet('/tmp/purchases')"
   ]
  },
  {
   "cell_type": "markdown",
   "metadata": {},
   "source": [
    "#### pyspark code"
   ]
  },
  {
   "cell_type": "code",
   "execution_count": 10,
   "metadata": {
    "collapsed": true
   },
   "outputs": [],
   "source": [
    "purchases = spark.read.parquet('/tmp/purchases')"
   ]
  },
  {
   "cell_type": "code",
   "execution_count": 11,
   "metadata": {},
   "outputs": [
    {
     "name": "stdout",
     "output_type": "stream",
     "text": [
      "+------+-----------------+---------------+--------------+----------+--------------------+\n",
      "|Accept|             Host|     User-Agent|    event_type|sword_type|           timestamp|\n",
      "+------+-----------------+---------------+--------------+----------+--------------------+\n",
      "|   */*|user1.comcast.com|ApacheBench/2.3|purchase_sword|    silver|2020-12-08 20:12:...|\n",
      "|   */*|user1.comcast.com|ApacheBench/2.3|purchase_sword|    silver|2020-12-08 20:12:...|\n",
      "|   */*|user1.comcast.com|ApacheBench/2.3|purchase_sword|    silver|2020-12-08 20:12:...|\n",
      "|   */*|user1.comcast.com|ApacheBench/2.3|purchase_sword|    silver|2020-12-08 20:12:...|\n",
      "|   */*|user1.comcast.com|ApacheBench/2.3|purchase_sword|    silver|2020-12-08 20:12:...|\n",
      "|   */*|user1.comcast.com|ApacheBench/2.3|purchase_sword|    silver|2020-12-08 20:12:...|\n",
      "|   */*|user1.comcast.com|ApacheBench/2.3|purchase_sword|    silver|2020-12-08 20:12:...|\n",
      "|   */*|user1.comcast.com|ApacheBench/2.3|purchase_sword|    silver|2020-12-08 20:12:...|\n",
      "|   */*|user1.comcast.com|ApacheBench/2.3|purchase_sword|    silver|2020-12-08 20:12:...|\n",
      "|   */*|user1.comcast.com|ApacheBench/2.3|purchase_sword|    silver|2020-12-08 20:12:...|\n",
      "|   */*|    user2.att.com|ApacheBench/2.3|purchase_sword|    silver|2020-12-08 20:14:...|\n",
      "|   */*|    user2.att.com|ApacheBench/2.3|purchase_sword|    silver|2020-12-08 20:14:...|\n",
      "|   */*|    user2.att.com|ApacheBench/2.3|purchase_sword|    silver|2020-12-08 20:14:...|\n",
      "|   */*|    user2.att.com|ApacheBench/2.3|purchase_sword|    silver|2020-12-08 20:14:...|\n",
      "|   */*|    user2.att.com|ApacheBench/2.3|purchase_sword|    silver|2020-12-08 20:14:...|\n",
      "|   */*|    user2.att.com|ApacheBench/2.3|purchase_sword|    silver|2020-12-08 20:14:...|\n",
      "|   */*|    user2.att.com|ApacheBench/2.3|purchase_sword|    silver|2020-12-08 20:14:...|\n",
      "|   */*|    user2.att.com|ApacheBench/2.3|purchase_sword|    silver|2020-12-08 20:14:...|\n",
      "|   */*|    user2.att.com|ApacheBench/2.3|purchase_sword|    silver|2020-12-08 20:14:...|\n",
      "|   */*|    user2.att.com|ApacheBench/2.3|purchase_sword|    silver|2020-12-08 20:14:...|\n",
      "+------+-----------------+---------------+--------------+----------+--------------------+\n",
      "\n"
     ]
    }
   ],
   "source": [
    "purchases.show()"
   ]
  },
  {
   "cell_type": "code",
   "execution_count": 12,
   "metadata": {
    "collapsed": true
   },
   "outputs": [],
   "source": [
    "purchases.registerTempTable('purchases')"
   ]
  },
  {
   "cell_type": "code",
   "execution_count": 13,
   "metadata": {
    "collapsed": true
   },
   "outputs": [],
   "source": [
    "purchases_by_example2 = spark.sql(\"select * from purchases where Host = 'user1.comcast.com'\")"
   ]
  },
  {
   "cell_type": "code",
   "execution_count": 14,
   "metadata": {},
   "outputs": [
    {
     "name": "stdout",
     "output_type": "stream",
     "text": [
      "+------+-----------------+---------------+--------------+----------+--------------------+\n",
      "|Accept|             Host|     User-Agent|    event_type|sword_type|           timestamp|\n",
      "+------+-----------------+---------------+--------------+----------+--------------------+\n",
      "|   */*|user1.comcast.com|ApacheBench/2.3|purchase_sword|    silver|2020-12-08 20:12:...|\n",
      "|   */*|user1.comcast.com|ApacheBench/2.3|purchase_sword|    silver|2020-12-08 20:12:...|\n",
      "|   */*|user1.comcast.com|ApacheBench/2.3|purchase_sword|    silver|2020-12-08 20:12:...|\n",
      "|   */*|user1.comcast.com|ApacheBench/2.3|purchase_sword|    silver|2020-12-08 20:12:...|\n",
      "|   */*|user1.comcast.com|ApacheBench/2.3|purchase_sword|    silver|2020-12-08 20:12:...|\n",
      "|   */*|user1.comcast.com|ApacheBench/2.3|purchase_sword|    silver|2020-12-08 20:12:...|\n",
      "|   */*|user1.comcast.com|ApacheBench/2.3|purchase_sword|    silver|2020-12-08 20:12:...|\n",
      "|   */*|user1.comcast.com|ApacheBench/2.3|purchase_sword|    silver|2020-12-08 20:12:...|\n",
      "|   */*|user1.comcast.com|ApacheBench/2.3|purchase_sword|    silver|2020-12-08 20:12:...|\n",
      "|   */*|user1.comcast.com|ApacheBench/2.3|purchase_sword|    silver|2020-12-08 20:12:...|\n",
      "+------+-----------------+---------------+--------------+----------+--------------------+\n",
      "\n"
     ]
    }
   ],
   "source": [
    "purchases_by_example2.show()"
   ]
  },
  {
   "cell_type": "code",
   "execution_count": 15,
   "metadata": {
    "collapsed": true
   },
   "outputs": [],
   "source": [
    "df = purchases_by_example2.toPandas()"
   ]
  },
  {
   "cell_type": "code",
   "execution_count": 16,
   "metadata": {},
   "outputs": [
    {
     "data": {
      "text/html": [
       "<div>\n",
       "<style>\n",
       "    .dataframe thead tr:only-child th {\n",
       "        text-align: right;\n",
       "    }\n",
       "\n",
       "    .dataframe thead th {\n",
       "        text-align: left;\n",
       "    }\n",
       "\n",
       "    .dataframe tbody tr th {\n",
       "        vertical-align: top;\n",
       "    }\n",
       "</style>\n",
       "<table border=\"1\" class=\"dataframe\">\n",
       "  <thead>\n",
       "    <tr style=\"text-align: right;\">\n",
       "      <th></th>\n",
       "      <th>Accept</th>\n",
       "      <th>Host</th>\n",
       "      <th>User-Agent</th>\n",
       "      <th>event_type</th>\n",
       "      <th>sword_type</th>\n",
       "      <th>timestamp</th>\n",
       "    </tr>\n",
       "  </thead>\n",
       "  <tbody>\n",
       "    <tr>\n",
       "      <th>0</th>\n",
       "      <td>*/*</td>\n",
       "      <td>user1.comcast.com</td>\n",
       "      <td>ApacheBench/2.3</td>\n",
       "      <td>purchase_sword</td>\n",
       "      <td>silver</td>\n",
       "      <td>2020-12-08 20:12:58.916</td>\n",
       "    </tr>\n",
       "    <tr>\n",
       "      <th>1</th>\n",
       "      <td>*/*</td>\n",
       "      <td>user1.comcast.com</td>\n",
       "      <td>ApacheBench/2.3</td>\n",
       "      <td>purchase_sword</td>\n",
       "      <td>silver</td>\n",
       "      <td>2020-12-08 20:12:58.919</td>\n",
       "    </tr>\n",
       "    <tr>\n",
       "      <th>2</th>\n",
       "      <td>*/*</td>\n",
       "      <td>user1.comcast.com</td>\n",
       "      <td>ApacheBench/2.3</td>\n",
       "      <td>purchase_sword</td>\n",
       "      <td>silver</td>\n",
       "      <td>2020-12-08 20:12:58.923</td>\n",
       "    </tr>\n",
       "    <tr>\n",
       "      <th>3</th>\n",
       "      <td>*/*</td>\n",
       "      <td>user1.comcast.com</td>\n",
       "      <td>ApacheBench/2.3</td>\n",
       "      <td>purchase_sword</td>\n",
       "      <td>silver</td>\n",
       "      <td>2020-12-08 20:12:58.933</td>\n",
       "    </tr>\n",
       "    <tr>\n",
       "      <th>4</th>\n",
       "      <td>*/*</td>\n",
       "      <td>user1.comcast.com</td>\n",
       "      <td>ApacheBench/2.3</td>\n",
       "      <td>purchase_sword</td>\n",
       "      <td>silver</td>\n",
       "      <td>2020-12-08 20:12:58.937</td>\n",
       "    </tr>\n",
       "    <tr>\n",
       "      <th>5</th>\n",
       "      <td>*/*</td>\n",
       "      <td>user1.comcast.com</td>\n",
       "      <td>ApacheBench/2.3</td>\n",
       "      <td>purchase_sword</td>\n",
       "      <td>silver</td>\n",
       "      <td>2020-12-08 20:12:58.94</td>\n",
       "    </tr>\n",
       "    <tr>\n",
       "      <th>6</th>\n",
       "      <td>*/*</td>\n",
       "      <td>user1.comcast.com</td>\n",
       "      <td>ApacheBench/2.3</td>\n",
       "      <td>purchase_sword</td>\n",
       "      <td>silver</td>\n",
       "      <td>2020-12-08 20:12:58.942</td>\n",
       "    </tr>\n",
       "    <tr>\n",
       "      <th>7</th>\n",
       "      <td>*/*</td>\n",
       "      <td>user1.comcast.com</td>\n",
       "      <td>ApacheBench/2.3</td>\n",
       "      <td>purchase_sword</td>\n",
       "      <td>silver</td>\n",
       "      <td>2020-12-08 20:12:58.945</td>\n",
       "    </tr>\n",
       "    <tr>\n",
       "      <th>8</th>\n",
       "      <td>*/*</td>\n",
       "      <td>user1.comcast.com</td>\n",
       "      <td>ApacheBench/2.3</td>\n",
       "      <td>purchase_sword</td>\n",
       "      <td>silver</td>\n",
       "      <td>2020-12-08 20:12:58.947</td>\n",
       "    </tr>\n",
       "    <tr>\n",
       "      <th>9</th>\n",
       "      <td>*/*</td>\n",
       "      <td>user1.comcast.com</td>\n",
       "      <td>ApacheBench/2.3</td>\n",
       "      <td>purchase_sword</td>\n",
       "      <td>silver</td>\n",
       "      <td>2020-12-08 20:12:58.951</td>\n",
       "    </tr>\n",
       "  </tbody>\n",
       "</table>\n",
       "</div>"
      ],
      "text/plain": [
       "  Accept               Host       User-Agent      event_type sword_type  \\\n",
       "0    */*  user1.comcast.com  ApacheBench/2.3  purchase_sword     silver   \n",
       "1    */*  user1.comcast.com  ApacheBench/2.3  purchase_sword     silver   \n",
       "2    */*  user1.comcast.com  ApacheBench/2.3  purchase_sword     silver   \n",
       "3    */*  user1.comcast.com  ApacheBench/2.3  purchase_sword     silver   \n",
       "4    */*  user1.comcast.com  ApacheBench/2.3  purchase_sword     silver   \n",
       "5    */*  user1.comcast.com  ApacheBench/2.3  purchase_sword     silver   \n",
       "6    */*  user1.comcast.com  ApacheBench/2.3  purchase_sword     silver   \n",
       "7    */*  user1.comcast.com  ApacheBench/2.3  purchase_sword     silver   \n",
       "8    */*  user1.comcast.com  ApacheBench/2.3  purchase_sword     silver   \n",
       "9    */*  user1.comcast.com  ApacheBench/2.3  purchase_sword     silver   \n",
       "\n",
       "                 timestamp  \n",
       "0  2020-12-08 20:12:58.916  \n",
       "1  2020-12-08 20:12:58.919  \n",
       "2  2020-12-08 20:12:58.923  \n",
       "3  2020-12-08 20:12:58.933  \n",
       "4  2020-12-08 20:12:58.937  \n",
       "5   2020-12-08 20:12:58.94  \n",
       "6  2020-12-08 20:12:58.942  \n",
       "7  2020-12-08 20:12:58.945  \n",
       "8  2020-12-08 20:12:58.947  \n",
       "9  2020-12-08 20:12:58.951  "
      ]
     },
     "execution_count": 16,
     "metadata": {},
     "output_type": "execute_result"
    }
   ],
   "source": [
    "df"
   ]
  },
  {
   "cell_type": "markdown",
   "metadata": {
    "collapsed": true
   },
   "source": [
    "### After Week 13"
   ]
  },
  {
   "cell_type": "code",
   "execution_count": 1,
   "metadata": {
    "collapsed": true
   },
   "outputs": [],
   "source": [
    "import json\n",
    "from pyspark.sql.functions import udf, from_json\n",
    "from pyspark.sql.types import StructType, StructField, StringType"
   ]
  },
  {
   "cell_type": "code",
   "execution_count": 2,
   "metadata": {
    "collapsed": true
   },
   "outputs": [],
   "source": [
    "def purchase_sword_event_schema():\n",
    "    \"\"\"\n",
    "    root\n",
    "    |-- Accept: string (nullable = true)\n",
    "    |-- Host: string (nullable = true)\n",
    "    |-- User-Agent: string (nullable = true)\n",
    "    |-- event_type: string (nullable = true)\n",
    "    |-- timestamp: string (nullable = true)\n",
    "    \"\"\"\n",
    "    return StructType([\n",
    "        StructField(\"Accept\", StringType(), True),\n",
    "        StructField(\"Host\", StringType(), True),\n",
    "        StructField(\"User-Agent\", StringType(), True),\n",
    "        StructField(\"event_type\", StringType(), True),\n",
    "    ])"
   ]
  },
  {
   "cell_type": "code",
   "execution_count": 3,
   "metadata": {
    "collapsed": true
   },
   "outputs": [],
   "source": [
    "@udf('boolean')\n",
    "def is_sword_purchase(event_as_json):\n",
    "    \"\"\"udf for filtering events\n",
    "    \"\"\"\n",
    "    event = json.loads(event_as_json)\n",
    "    if event['event_type'] == 'purchase_sword':\n",
    "        return True\n",
    "    return False"
   ]
  },
  {
   "cell_type": "code",
   "execution_count": 4,
   "metadata": {},
   "outputs": [
    {
     "data": {
      "text/html": [
       "\n",
       "            <div>\n",
       "                <p><b>SparkSession - hive</b></p>\n",
       "                \n",
       "        <div>\n",
       "            <p><b>SparkContext</b></p>\n",
       "\n",
       "            <p><a href=\"http://172.18.0.6:4040\">Spark UI</a></p>\n",
       "\n",
       "            <dl>\n",
       "              <dt>Version</dt>\n",
       "                <dd><code>v2.2.0</code></dd>\n",
       "              <dt>Master</dt>\n",
       "                <dd><code>local[*]</code></dd>\n",
       "              <dt>AppName</dt>\n",
       "                <dd><code>PySparkShell</code></dd>\n",
       "            </dl>\n",
       "        </div>\n",
       "        \n",
       "            </div>\n",
       "        "
      ],
      "text/plain": [
       "<pyspark.sql.session.SparkSession at 0x7f66f8027e48>"
      ]
     },
     "execution_count": 4,
     "metadata": {},
     "output_type": "execute_result"
    }
   ],
   "source": [
    "spark"
   ]
  },
  {
   "cell_type": "code",
   "execution_count": 5,
   "metadata": {
    "collapsed": true
   },
   "outputs": [],
   "source": [
    " raw_events = spark \\\n",
    "        .readStream \\\n",
    "        .format(\"kafka\") \\\n",
    "        .option(\"kafka.bootstrap.servers\", \"kafka:29092\") \\\n",
    "        .option(\"subscribe\", \"events\") \\\n",
    "        .load()"
   ]
  },
  {
   "cell_type": "code",
   "execution_count": 6,
   "metadata": {
    "collapsed": true
   },
   "outputs": [],
   "source": [
    "sword_purchases = raw_events \\\n",
    "        .filter(is_sword_purchase(raw_events.value.cast('string'))) \\\n",
    "        .select(raw_events.value.cast('string').alias('raw_event'),\n",
    "                raw_events.timestamp.cast('string'),\n",
    "                from_json(raw_events.value.cast('string'),\n",
    "                          purchase_sword_event_schema()).alias('json')) \\\n",
    "        .select('raw_event', 'timestamp', 'json.*')"
   ]
  },
  {
   "cell_type": "code",
   "execution_count": 7,
   "metadata": {
    "collapsed": true
   },
   "outputs": [],
   "source": [
    " sink = sword_purchases \\\n",
    "        .writeStream \\\n",
    "        .format(\"parquet\") \\\n",
    "        .option(\"checkpointLocation\", \"/tmp/checkpoints_for_sword_purchases\") \\\n",
    "        .option(\"path\", \"/tmp/sword_purchases\") \\\n",
    "        .trigger(processingTime=\"10 seconds\") \\\n",
    "        .start()"
   ]
  },
  {
   "cell_type": "markdown",
   "metadata": {},
   "source": [
    "#### 1) Command to Open Hive and Create  External Table\n",
    "    docker-compose exec cloudera hive \n",
    "    create external table if not exists default.sword_purchases (Accept string, Host string, User_Agent string, event_type string, timestamp string) stored as parquet location '/tmp/sword_purchases'  tblproperties (\"parquet.compress\"=\"SNAPPY\");"
   ]
  },
  {
   "cell_type": "markdown",
   "metadata": {},
   "source": [
    "#### 2) Command to Open Presto so we Can Query Against External Tables\n",
    "    docker-compose exec presto presto --server presto:8080 --catalog hive --schema default"
   ]
  },
  {
   "cell_type": "markdown",
   "metadata": {},
   "source": [
    "#### 3) Query Against External Tables Using Presto\n",
    "     Query 1: All Info from Users About Purhcased Swords \n",
    "     select * from sword_purchases limit 5;\n",
    "                                                                                                                                                                                                                                  \n",
    "      accept       |          host           | user_agent |    event_type     |    timestamp    \n",
    "-----------------------------------------------------------------------------------------------------------------------------------------+-------------------------+------------+-------------------+-----------------\n",
    " {\"Host\": \"user1.comcast.com\", \"sword_type\": \"silver\", \"event_type\": \"purchase_sword\", \"Accept\": \"*/*\", \"User-Agent\": \"ApacheBench/2.3\"} | 2020-12-09 04:46:10.012 | */*        | user1.comcast.com | ApacheBench/2.3 \n",
    " {\"Host\": \"user1.comcast.com\", \"sword_type\": \"silver\", \"event_type\": \"purchase_sword\", \"Accept\": \"*/*\", \"User-Agent\": \"ApacheBench/2.3\"} | 2020-12-09 04:46:10.016 | */*        | user1.comcast.com | ApacheBench/2.3 \n",
    " {\"Host\": \"user1.comcast.com\", \"sword_type\": \"silver\", \"event_type\": \"purchase_sword\", \"Accept\": \"*/*\", \"User-Agent\": \"ApacheBench/2.3\"} | 2020-12-09 04:46:10.018 | */*        | user1.comcast.com | ApacheBench/2.3 \n",
    " {\"Host\": \"user1.comcast.com\", \"sword_type\": \"silver\", \"event_type\": \"purchase_sword\", \"Accept\": \"*/*\", \"User-Agent\": \"ApacheBench/2.3\"} | 2020-12-09 04:46:10.021 | */*        | user1.comcast.com | ApacheBench/2.3 \n",
    " {\"Host\": \"user1.comcast.com\", \"sword_type\": \"silver\", \"event_type\": \"purchase_sword\", \"Accept\": \"*/*\", \"User-Agent\": \"ApacheBench/2.3\"} | 2020-12-09 04:46:10.026 | */*        | user1.comcast.com | ApacheBench/2.3 \n",
    "   \n",
    "     Query 2: How Many Swords Were Purchased?\n",
    "     select count(*) from sword_purchases;\n",
    "_col0 \n",
    "-------\n",
    " 14810 \n",
    "(1 row)"
   ]
  },
  {
   "cell_type": "markdown",
   "metadata": {},
   "source": [
    "#### Stop the Stream "
   ]
  },
  {
   "cell_type": "code",
   "execution_count": 8,
   "metadata": {
    "collapsed": true
   },
   "outputs": [],
   "source": [
    "sink.stop()"
   ]
  }
 ],
 "metadata": {
  "kernelspec": {
   "display_name": "Python 3",
   "language": "python",
   "name": "python3"
  },
  "language_info": {
   "codemirror_mode": {
    "name": "ipython",
    "version": 3
   },
   "file_extension": ".py",
   "mimetype": "text/x-python",
   "name": "python",
   "nbconvert_exporter": "python",
   "pygments_lexer": "ipython3",
   "version": "3.6.1"
  }
 },
 "nbformat": 4,
 "nbformat_minor": 2
}
