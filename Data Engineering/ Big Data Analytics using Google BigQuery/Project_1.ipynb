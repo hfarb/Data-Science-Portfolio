{
 "cells": [
  {
   "cell_type": "markdown",
   "metadata": {},
   "source": [
    "# **Project 1: Lyft Bay Wheels Recommendations**"
   ]
  },
  {
   "cell_type": "code",
   "execution_count": 1,
   "metadata": {},
   "outputs": [],
   "source": [
    "import seaborn as sns \n",
    "import matplotlib.pyplot as plt\n",
    "import pandas as pd\n",
    "import numpy as np"
   ]
  },
  {
   "cell_type": "markdown",
   "metadata": {},
   "source": [
    "## **0.Prefix and Summary**"
   ]
  },
  {
   "cell_type": "markdown",
   "metadata": {},
   "source": [
    "This project aims to answer two questions:\n",
    "1. What are the 5 most popular trips that I would call \"commuter trips\"? \n",
    "2. What are my recommendations for offers (justified based on my findings)?\n",
    "\n",
    "My responses to the aboves are as follows:\n",
    "1. The five most popular commuter trips are \n",
    "   1. San Francisco Caltrain 2 (330 Townsend) to Townsend at 7th\n",
    "   2. Harry Bridges Plaza (Ferry Building) to 2nd at Townsend\n",
    "   3. 2nd at Townsend to Harry Bridges Plaza (Ferry Building)\n",
    "   4. Embarcadero at Sansome to Steuart at Market\n",
    "   5. San Francisco Caltrain (Townsend at 4th) to Harry Bridges Plaza (Ferry Building)\n",
    "\n",
    "I define commuter trips to be trips that begin anywhere from 6-9am or 4-7pm since these are the hours most people commute to and from work. My dataset does not include trips that have durations above the 99th percentile for trip durations which is 3.2 hours (see appendix for more details)."
   ]
  },
  {
   "cell_type": "markdown",
   "metadata": {},
   "source": [
    "2. Because most bike trips are made by subscribers and most subscribers appear to be commuters that ride bikes for less than 30 minutes, I suggest either increasing the amount of the monthly or yearly membership fee or decreasing the amount of time per trip that is included as a part of the membership with no additional fee. I also suggest increasing marketing and awareness for the corporate memberships deal since most of the subsribers appear to be commuters to and from and work."
   ]
  },
  {
   "cell_type": "markdown",
   "metadata": {},
   "source": [
    "## **1. Data for 5 Most Popular Commuter Trips**"
   ]
  },
  {
   "cell_type": "code",
   "execution_count": 2,
   "metadata": {},
   "outputs": [
    {
     "name": "stdout",
     "output_type": "stream",
     "text": [
      "Waiting on bqjob_r186b6c32bc6aa075_00000174dd91836c_1 ... (0s) Current status: DONE   \n"
     ]
    }
   ],
   "source": [
    "! bq query --use_legacy_sql=FALSE --format=csv --max_rows=1000000 'SELECT start_station_name, end_station_name, count(*) as number_of_trips FROM `september-2020-288223.bike_trip_data.Duration_and_Cleaned_Time`  WHERE start_station_name <> end_station_name AND (start_hour = 6 OR start_hour = 7 OR start_hour= 8 OR start_hour = 9 OR start_hour = 16 OR start_hour = 17 OR start_hour = 18 OR start_hour = 19) GROUP BY start_station_name, end_station_name ORDER BY number_of_trips DESC LIMIT 5' > trips.csv"
   ]
  },
  {
   "cell_type": "code",
   "execution_count": 3,
   "metadata": {},
   "outputs": [],
   "source": [
    "com_trips = pd.read_csv('trips.csv')"
   ]
  },
  {
   "cell_type": "code",
   "execution_count": 4,
   "metadata": {},
   "outputs": [
    {
     "data": {
      "text/html": [
       "<div>\n",
       "<style scoped>\n",
       "    .dataframe tbody tr th:only-of-type {\n",
       "        vertical-align: middle;\n",
       "    }\n",
       "\n",
       "    .dataframe tbody tr th {\n",
       "        vertical-align: top;\n",
       "    }\n",
       "\n",
       "    .dataframe thead th {\n",
       "        text-align: right;\n",
       "    }\n",
       "</style>\n",
       "<table border=\"1\" class=\"dataframe\">\n",
       "  <thead>\n",
       "    <tr style=\"text-align: right;\">\n",
       "      <th></th>\n",
       "      <th>start_station_name</th>\n",
       "      <th>end_station_name</th>\n",
       "      <th>number_of_trips</th>\n",
       "    </tr>\n",
       "  </thead>\n",
       "  <tbody>\n",
       "    <tr>\n",
       "      <th>0</th>\n",
       "      <td>San Francisco Caltrain 2 (330 Townsend)</td>\n",
       "      <td>Townsend at 7th</td>\n",
       "      <td>5912</td>\n",
       "    </tr>\n",
       "    <tr>\n",
       "      <th>1</th>\n",
       "      <td>Harry Bridges Plaza (Ferry Building)</td>\n",
       "      <td>2nd at Townsend</td>\n",
       "      <td>5744</td>\n",
       "    </tr>\n",
       "    <tr>\n",
       "      <th>2</th>\n",
       "      <td>2nd at Townsend</td>\n",
       "      <td>Harry Bridges Plaza (Ferry Building)</td>\n",
       "      <td>5511</td>\n",
       "    </tr>\n",
       "    <tr>\n",
       "      <th>3</th>\n",
       "      <td>Embarcadero at Sansome</td>\n",
       "      <td>Steuart at Market</td>\n",
       "      <td>5357</td>\n",
       "    </tr>\n",
       "    <tr>\n",
       "      <th>4</th>\n",
       "      <td>San Francisco Caltrain (Townsend at 4th)</td>\n",
       "      <td>Harry Bridges Plaza (Ferry Building)</td>\n",
       "      <td>5249</td>\n",
       "    </tr>\n",
       "  </tbody>\n",
       "</table>\n",
       "</div>"
      ],
      "text/plain": [
       "                         start_station_name  \\\n",
       "0   San Francisco Caltrain 2 (330 Townsend)   \n",
       "1      Harry Bridges Plaza (Ferry Building)   \n",
       "2                           2nd at Townsend   \n",
       "3                    Embarcadero at Sansome   \n",
       "4  San Francisco Caltrain (Townsend at 4th)   \n",
       "\n",
       "                       end_station_name  number_of_trips  \n",
       "0                       Townsend at 7th             5912  \n",
       "1                       2nd at Townsend             5744  \n",
       "2  Harry Bridges Plaza (Ferry Building)             5511  \n",
       "3                     Steuart at Market             5357  \n",
       "4  Harry Bridges Plaza (Ferry Building)             5249  "
      ]
     },
     "execution_count": 4,
     "metadata": {},
     "output_type": "execute_result"
    }
   ],
   "source": [
    "com_trips"
   ]
  },
  {
   "cell_type": "code",
   "execution_count": 5,
   "metadata": {},
   "outputs": [
    {
     "data": {
      "image/png": "[encoded data removed]",
      "text/plain": [
       "<Figure size 720x576 with 1 Axes>"
      ]
     },
     "metadata": {
      "needs_background": "light"
     },
     "output_type": "display_data"
    }
   ],
   "source": [
    "trips  = []\n",
    "for i in np.arange(5):\n",
    "     trips.append(com_trips[\"start_station_name\"][i] + str(\" to \") + com_trips[\"end_station_name\"][i])\n",
    "com_trips[\"trips\"] = trips\n",
    "plt.figure(figsize=(10,8))\n",
    "sns.barplot(x = list(np.arange(1,6)), y = \"number_of_trips\", hue = \"trips\", data = com_trips, dodge=False)\n",
    "plt.legend(bbox_to_anchor=(1.01, 1),borderaxespad=0)\n",
    "plt.title(\"5 Most Popular Commuter Trips\")\n",
    "plt.xlabel(\"Trips\")\n",
    "plt.ylabel(\"Number of Trips\")\n",
    "plt.show()"
   ]
  },
  {
   "cell_type": "markdown",
   "metadata": {},
   "source": [
    "#### **Notes on Defining Commuter Trips:**\n",
    "As mentioned above, I define commuter trips as trips that begin anywhere from 6-9am or 4-7pm since these are the hours most people commute to and from work. My dataset does not include trips that have durations above the 99th percentile for trip durations which is 3.2 hours (see appendix for more details)."
   ]
  },
  {
   "cell_type": "markdown",
   "metadata": {},
   "source": [
    " ## **2. Data For Recommendations**"
   ]
  },
  {
   "cell_type": "markdown",
   "metadata": {},
   "source": [
    "### **2.1 Percent of Subscribers vs Customers**"
   ]
  },
  {
   "cell_type": "code",
   "execution_count": 6,
   "metadata": {},
   "outputs": [
    {
     "name": "stdout",
     "output_type": "stream",
     "text": [
      "Waiting on bqjob_r57fd402f49260f7d_00000174dd91917d_1 ... (0s) Current status: DONE   \n"
     ]
    }
   ],
   "source": [
    "! bq query --use_legacy_sql=FALSE --format=csv --max_rows=1000000 'SELECT subscriber_type, COUNT(*) as num_trips FROM `september-2020-288223.bike_trip_data.Duration_and_Cleaned_Time` GROUP BY subscriber_type  ORDER BY num_trips DESC' > sub_types.csv"
   ]
  },
  {
   "cell_type": "code",
   "execution_count": 7,
   "metadata": {},
   "outputs": [],
   "source": [
    "sub_types = pd.read_csv('sub_types.csv')"
   ]
  },
  {
   "cell_type": "code",
   "execution_count": 8,
   "metadata": {},
   "outputs": [
    {
     "data": {
      "text/html": [
       "<div>\n",
       "<style scoped>\n",
       "    .dataframe tbody tr th:only-of-type {\n",
       "        vertical-align: middle;\n",
       "    }\n",
       "\n",
       "    .dataframe tbody tr th {\n",
       "        vertical-align: top;\n",
       "    }\n",
       "\n",
       "    .dataframe thead th {\n",
       "        text-align: right;\n",
       "    }\n",
       "</style>\n",
       "<table border=\"1\" class=\"dataframe\">\n",
       "  <thead>\n",
       "    <tr style=\"text-align: right;\">\n",
       "      <th></th>\n",
       "      <th>subscriber_type</th>\n",
       "      <th>num_trips</th>\n",
       "    </tr>\n",
       "  </thead>\n",
       "  <tbody>\n",
       "    <tr>\n",
       "      <th>0</th>\n",
       "      <td>Subscriber</td>\n",
       "      <td>845915</td>\n",
       "    </tr>\n",
       "    <tr>\n",
       "      <th>1</th>\n",
       "      <td>Customer</td>\n",
       "      <td>128143</td>\n",
       "    </tr>\n",
       "  </tbody>\n",
       "</table>\n",
       "</div>"
      ],
      "text/plain": [
       "  subscriber_type  num_trips\n",
       "0      Subscriber     845915\n",
       "1        Customer     128143"
      ]
     },
     "execution_count": 8,
     "metadata": {},
     "output_type": "execute_result"
    }
   ],
   "source": [
    "sub_types"
   ]
  },
  {
   "cell_type": "code",
   "execution_count": 9,
   "metadata": {},
   "outputs": [
    {
     "name": "stdout",
     "output_type": "stream",
     "text": [
      "[0.8684441788887315, 0.13155582111126854]\n"
     ]
    },
    {
     "data": {
      "image/png": "[encoded data removed]",
      "text/plain": [
       "<Figure size 432x288 with 1 Axes>"
      ]
     },
     "metadata": {
      "needs_background": "light"
     },
     "output_type": "display_data"
    }
   ],
   "source": [
    "total_trips = sum(sub_types[\"num_trips\"])\n",
    "percents = []\n",
    "for i in range(2):\n",
    "    percents.append(sub_types[\"num_trips\"][i]/total_trips)\n",
    "sub_types[\"percents\"] = percents\n",
    "print(percents)\n",
    "\n",
    "sns.barplot(x = \"subscriber_type\", y = \"percents\", data = sub_types, dodge=False)\n",
    "plt.title(\"Percent of Subscriber Trips vs Customer Trips\")\n",
    "plt.xlabel(\"Type of Customer\")\n",
    "plt.ylabel(\"Percent\")\n",
    "plt.show()"
   ]
  },
  {
   "cell_type": "markdown",
   "metadata": {},
   "source": [
    "#### **Takeaway from this Graph:**"
   ]
  },
  {
   "cell_type": "markdown",
   "metadata": {},
   "source": [
    "From this graph, we learn that about 87% of trips are made by subscribers whereas only about 13% are made by customers."
   ]
  },
  {
   "cell_type": "markdown",
   "metadata": {},
   "source": [
    "### **2.2 Distributions of Trip Duration Minutes for Subscribers vs Customers**"
   ]
  },
  {
   "cell_type": "code",
   "execution_count": 10,
   "metadata": {},
   "outputs": [
    {
     "name": "stdout",
     "output_type": "stream",
     "text": [
      "Waiting on bqjob_r5f695a6c0f1437ae_00000174dd9199a9_1 ... (0s) Current status: DONE   \n"
     ]
    }
   ],
   "source": [
    "! bq query --use_legacy_sql=FALSE --format=csv --max_rows=1000000 'SELECT subscriber_type, duration_minutes FROM `september-2020-288223.bike_trip_data.Duration_and_Cleaned_Time`' > sub_times.csv"
   ]
  },
  {
   "cell_type": "code",
   "execution_count": 11,
   "metadata": {},
   "outputs": [],
   "source": [
    "sub_times = pd.read_csv('sub_times.csv')"
   ]
  },
  {
   "cell_type": "code",
   "execution_count": 12,
   "metadata": {},
   "outputs": [
    {
     "data": {
      "text/html": [
       "<div>\n",
       "<style scoped>\n",
       "    .dataframe tbody tr th:only-of-type {\n",
       "        vertical-align: middle;\n",
       "    }\n",
       "\n",
       "    .dataframe tbody tr th {\n",
       "        vertical-align: top;\n",
       "    }\n",
       "\n",
       "    .dataframe thead th {\n",
       "        text-align: right;\n",
       "    }\n",
       "</style>\n",
       "<table border=\"1\" class=\"dataframe\">\n",
       "  <thead>\n",
       "    <tr style=\"text-align: right;\">\n",
       "      <th></th>\n",
       "      <th>subscriber_type</th>\n",
       "      <th>duration_minutes</th>\n",
       "    </tr>\n",
       "  </thead>\n",
       "  <tbody>\n",
       "    <tr>\n",
       "      <th>0</th>\n",
       "      <td>Subscriber</td>\n",
       "      <td>3</td>\n",
       "    </tr>\n",
       "    <tr>\n",
       "      <th>1</th>\n",
       "      <td>Subscriber</td>\n",
       "      <td>18</td>\n",
       "    </tr>\n",
       "    <tr>\n",
       "      <th>2</th>\n",
       "      <td>Subscriber</td>\n",
       "      <td>19</td>\n",
       "    </tr>\n",
       "    <tr>\n",
       "      <th>3</th>\n",
       "      <td>Subscriber</td>\n",
       "      <td>19</td>\n",
       "    </tr>\n",
       "    <tr>\n",
       "      <th>4</th>\n",
       "      <td>Subscriber</td>\n",
       "      <td>19</td>\n",
       "    </tr>\n",
       "  </tbody>\n",
       "</table>\n",
       "</div>"
      ],
      "text/plain": [
       "  subscriber_type  duration_minutes\n",
       "0      Subscriber                 3\n",
       "1      Subscriber                18\n",
       "2      Subscriber                19\n",
       "3      Subscriber                19\n",
       "4      Subscriber                19"
      ]
     },
     "execution_count": 12,
     "metadata": {},
     "output_type": "execute_result"
    }
   ],
   "source": [
    "sub_times.head()"
   ]
  },
  {
   "cell_type": "code",
   "execution_count": 13,
   "metadata": {},
   "outputs": [
    {
     "data": {
      "image/png": "[encoded data removed]",
      "text/plain": [
       "<Figure size 720x576 with 1 Axes>"
      ]
     },
     "metadata": {
      "needs_background": "light"
     },
     "output_type": "display_data"
    }
   ],
   "source": [
    "plt.figure(figsize=(10,8))\n",
    "sns.distplot(sub_times.loc[sub_times['subscriber_type'] == 'Subscriber', 'duration_minutes'],hist=False,kde=True,kde_kws = {'shade': True, 'linewidth': 2}, label = \"Subscriber\")\n",
    "sns.distplot(sub_times.loc[sub_times['subscriber_type'] == 'Customer', 'duration_minutes'],hist=False,kde=True,kde_kws = {'shade': True, 'linewidth': 2}, label = \"Customer\")\n",
    "plt.legend(prop={'size': 12}, title = 'Subscriber Type')\n",
    "plt.xlabel(\"Trip Duration Minutes\")\n",
    "plt.ylabel(\"Density\")\n",
    "plt.title(\"Distributions of Trip Lengths for Subscribers and Customers\")\n",
    "plt.show()"
   ]
  },
  {
   "cell_type": "markdown",
   "metadata": {},
   "source": [
    "#### **Takeaway from this Graph:**"
   ]
  },
  {
   "cell_type": "markdown",
   "metadata": {},
   "source": [
    "From this graph, we can see that the distribution for subscriber trip durations is much more narrow than the distribution for customer trip durations. Almost all of the trips made by subscribers are under 25 minutes. Many of the trips made by customers are also under 25 minutes; however unlike the distribution for the subscriber trip durations, the distribution for the customer trip durations has a long tail. This means that a greater fraction of customers than subscribers take trips that are much longer than 25 minutes. A greater percent of customers are riding longer than subscribers. "
   ]
  },
  {
   "cell_type": "markdown",
   "metadata": {},
   "source": [
    "### **2.3 Days Customers vs Subscribers Use Bikes**"
   ]
  },
  {
   "cell_type": "code",
   "execution_count": 14,
   "metadata": {},
   "outputs": [
    {
     "name": "stdout",
     "output_type": "stream",
     "text": [
      "Waiting on bqjob_r5b40b0b6d0768afb_00000174dd920045_1 ... (0s) Current status: DONE   \n"
     ]
    }
   ],
   "source": [
    "! bq query --use_legacy_sql=FALSE --format=csv --max_rows=1000000 'SELECT subscriber_type, dow_weekday AS week_day, COUNT(trip_id) as num_trips FROM `september-2020-288223.bike_trip_data.Duration_and_Cleaned_Time` GROUP BY subscriber_type, week_day ORDER BY num_trips DESC' > sub_days.csv"
   ]
  },
  {
   "cell_type": "code",
   "execution_count": 15,
   "metadata": {},
   "outputs": [],
   "source": [
    "sub_days = pd.read_csv('sub_days.csv')"
   ]
  },
  {
   "cell_type": "code",
   "execution_count": 16,
   "metadata": {},
   "outputs": [
    {
     "data": {
      "text/html": [
       "<div>\n",
       "<style scoped>\n",
       "    .dataframe tbody tr th:only-of-type {\n",
       "        vertical-align: middle;\n",
       "    }\n",
       "\n",
       "    .dataframe tbody tr th {\n",
       "        vertical-align: top;\n",
       "    }\n",
       "\n",
       "    .dataframe thead th {\n",
       "        text-align: right;\n",
       "    }\n",
       "</style>\n",
       "<table border=\"1\" class=\"dataframe\">\n",
       "  <thead>\n",
       "    <tr style=\"text-align: right;\">\n",
       "      <th></th>\n",
       "      <th>subscriber_type</th>\n",
       "      <th>week_day</th>\n",
       "      <th>num_trips</th>\n",
       "    </tr>\n",
       "  </thead>\n",
       "  <tbody>\n",
       "    <tr>\n",
       "      <th>0</th>\n",
       "      <td>Subscriber</td>\n",
       "      <td>Weekday</td>\n",
       "      <td>789506</td>\n",
       "    </tr>\n",
       "    <tr>\n",
       "      <th>1</th>\n",
       "      <td>Customer</td>\n",
       "      <td>Weekday</td>\n",
       "      <td>77001</td>\n",
       "    </tr>\n",
       "    <tr>\n",
       "      <th>2</th>\n",
       "      <td>Subscriber</td>\n",
       "      <td>Weekend</td>\n",
       "      <td>56409</td>\n",
       "    </tr>\n",
       "    <tr>\n",
       "      <th>3</th>\n",
       "      <td>Customer</td>\n",
       "      <td>Weekend</td>\n",
       "      <td>51142</td>\n",
       "    </tr>\n",
       "  </tbody>\n",
       "</table>\n",
       "</div>"
      ],
      "text/plain": [
       "  subscriber_type week_day  num_trips\n",
       "0      Subscriber  Weekday     789506\n",
       "1        Customer  Weekday      77001\n",
       "2      Subscriber  Weekend      56409\n",
       "3        Customer  Weekend      51142"
      ]
     },
     "execution_count": 16,
     "metadata": {},
     "output_type": "execute_result"
    }
   ],
   "source": [
    "sub_days.head()"
   ]
  },
  {
   "cell_type": "code",
   "execution_count": 17,
   "metadata": {},
   "outputs": [
    {
     "name": "stdout",
     "output_type": "stream",
     "text": [
      "[0.9333159951058912, 0.6008989956532936, 0.06668400489410875, 0.3991010043467064]\n"
     ]
    },
    {
     "data": {
      "image/png": "[encoded data removed]",
      "text/plain": [
       "<Figure size 720x576 with 1 Axes>"
      ]
     },
     "metadata": {
      "needs_background": "light"
     },
     "output_type": "display_data"
    }
   ],
   "source": [
    "total_sub_days = sum(sub_days.loc[sub_days[\"subscriber_type\"] == \"Subscriber\"][\"num_trips\"])\n",
    "total_cust_days = sum(sub_days.loc[sub_days[\"subscriber_type\"] == \"Customer\"][\"num_trips\"])\n",
    "\n",
    "percents = []\n",
    "i = 0\n",
    "while i < 4:\n",
    "    percents.append(sub_days.loc[sub_days[\"subscriber_type\"] == \"Subscriber\"][\"num_trips\"][i]/total_sub_days)\n",
    "    i+=1\n",
    "    percents.append(sub_days.loc[sub_days[\"subscriber_type\"] == \"Customer\"][\"num_trips\"][i]/total_cust_days)\n",
    "    i+=1\n",
    "print(percents)\n",
    "sub_days[\"percents\"] = percents \n",
    "\n",
    "plt.figure(figsize=(10,8))\n",
    "sns.barplot(x=\"week_day\",y=\"percents\",hue = \"subscriber_type\", data = sub_days)\n",
    "plt.legend(prop={'size': 12}, title = 'Subscriber Type')\n",
    "plt.title(\"Percent of Subscriber and Customer Trips on Weedays vs Weekends\")\n",
    "plt.xlabel(\"Week Day vs Weekend\")\n",
    "plt.ylabel(\"Percent of Subscribers and Customers\")\n",
    "plt.show()\n"
   ]
  },
  {
   "cell_type": "markdown",
   "metadata": {},
   "source": [
    "#### **Takeaway from this Chart:**"
   ]
  },
  {
   "cell_type": "markdown",
   "metadata": {},
   "source": [
    "From this chart, we can see that about 93% of subscriber trips happen on weekdays whereas about 7% happens on the weekends. On the other hand, only about 40% of customer trips happend on weekdays whereas 60% happen on weekends. Thus, subscribers are more likely to commute during the week than customers."
   ]
  },
  {
   "cell_type": "markdown",
   "metadata": {},
   "source": [
    "### **2.4 Trip Start Hours: Subscribers vs Customers**"
   ]
  },
  {
   "cell_type": "code",
   "execution_count": 18,
   "metadata": {},
   "outputs": [
    {
     "name": "stdout",
     "output_type": "stream",
     "text": [
      "Waiting on bqjob_r462ee7a25db4d7a7_00000174dd920868_1 ... (0s) Current status: DONE   \n"
     ]
    }
   ],
   "source": [
    "! bq query --use_legacy_sql=FALSE --format=csv --max_rows=1000000 'SELECT subscriber_type, start_hour, count(*) as num_trips FROM `september-2020-288223.bike_trip_data.Duration_and_Cleaned_Time` GROUP BY subscriber_type,start_hour ORDER BY num_trips DESC, subscriber_type' > sub_hours.csv"
   ]
  },
  {
   "cell_type": "code",
   "execution_count": 19,
   "metadata": {},
   "outputs": [],
   "source": [
    "sub_hours = pd.read_csv('sub_hours.csv')"
   ]
  },
  {
   "cell_type": "code",
   "execution_count": 20,
   "metadata": {},
   "outputs": [
    {
     "data": {
      "text/html": [
       "<div>\n",
       "<style scoped>\n",
       "    .dataframe tbody tr th:only-of-type {\n",
       "        vertical-align: middle;\n",
       "    }\n",
       "\n",
       "    .dataframe tbody tr th {\n",
       "        vertical-align: top;\n",
       "    }\n",
       "\n",
       "    .dataframe thead th {\n",
       "        text-align: right;\n",
       "    }\n",
       "</style>\n",
       "<table border=\"1\" class=\"dataframe\">\n",
       "  <thead>\n",
       "    <tr style=\"text-align: right;\">\n",
       "      <th></th>\n",
       "      <th>subscriber_type</th>\n",
       "      <th>start_hour</th>\n",
       "      <th>num_trips</th>\n",
       "    </tr>\n",
       "  </thead>\n",
       "  <tbody>\n",
       "    <tr>\n",
       "      <th>0</th>\n",
       "      <td>Subscriber</td>\n",
       "      <td>8</td>\n",
       "      <td>127036</td>\n",
       "    </tr>\n",
       "    <tr>\n",
       "      <th>1</th>\n",
       "      <td>Subscriber</td>\n",
       "      <td>17</td>\n",
       "      <td>114840</td>\n",
       "    </tr>\n",
       "    <tr>\n",
       "      <th>2</th>\n",
       "      <td>Subscriber</td>\n",
       "      <td>9</td>\n",
       "      <td>89427</td>\n",
       "    </tr>\n",
       "    <tr>\n",
       "      <th>3</th>\n",
       "      <td>Subscriber</td>\n",
       "      <td>16</td>\n",
       "      <td>75995</td>\n",
       "    </tr>\n",
       "    <tr>\n",
       "      <th>4</th>\n",
       "      <td>Subscriber</td>\n",
       "      <td>18</td>\n",
       "      <td>75711</td>\n",
       "    </tr>\n",
       "  </tbody>\n",
       "</table>\n",
       "</div>"
      ],
      "text/plain": [
       "  subscriber_type  start_hour  num_trips\n",
       "0      Subscriber           8     127036\n",
       "1      Subscriber          17     114840\n",
       "2      Subscriber           9      89427\n",
       "3      Subscriber          16      75995\n",
       "4      Subscriber          18      75711"
      ]
     },
     "execution_count": 20,
     "metadata": {},
     "output_type": "execute_result"
    }
   ],
   "source": [
    "sub_hours.head()"
   ]
  },
  {
   "cell_type": "code",
   "execution_count": 21,
   "metadata": {},
   "outputs": [
    {
     "data": {
      "image/png": "[encoded data removed]",
      "text/plain": [
       "<Figure size 720x576 with 1 Axes>"
      ]
     },
     "metadata": {
      "needs_background": "light"
     },
     "output_type": "display_data"
    }
   ],
   "source": [
    "plt.figure(figsize=(10,8))\n",
    "sns.barplot(x = \"start_hour\", y = \"num_trips\", hue = \"subscriber_type\",data = sub_hours,dodge = False)\n",
    "plt.legend(prop={'size': 12}, title = 'Subscriber Type')\n",
    "plt.xlabel(\"Trip Start Hour\")\n",
    "plt.ylabel(\"Number of Trips\")\n",
    "plt.title(\"Trip Start Hour for Subscribers vs Customers \")\n",
    "plt.show()"
   ]
  },
  {
   "cell_type": "markdown",
   "metadata": {},
   "source": [
    "#### **Takeway From this Chart:**"
   ]
  },
  {
   "cell_type": "markdown",
   "metadata": {},
   "source": [
    "This chart shows that most subscribers begin their trips at 7am,8am,and 9am and 4pm, 5pm, and 6pm. These are commuting hours which means subscribers are probably commuting to and from work on the bikes. On the other hand, the most common start hours for customers are 12pm, 1pm, 2pm, 3pm, and 4pm. These are not commuting hours. Putting this together with the previous graph which shows that a larger percent of customers ride bikes on the weekends than the weekdays, it appears that customers are riding the bikes perhaps for leisure rather than commuting to and from work. "
   ]
  },
  {
   "cell_type": "markdown",
   "metadata": {},
   "source": [
    "### **2.5 Starting Hours for All Trips**"
   ]
  },
  {
   "cell_type": "code",
   "execution_count": 22,
   "metadata": {},
   "outputs": [
    {
     "name": "stdout",
     "output_type": "stream",
     "text": [
      "Waiting on bqjob_r64c56aedd68cde8a_00000174dd9211ad_1 ... (0s) Current status: DONE   \n"
     ]
    }
   ],
   "source": [
    "! bq query --use_legacy_sql=FALSE --format=csv --max_rows=1000000 'SELECT COUNT(trip_id) as num_trips, start_hour FROM `september-2020-288223.bike_trip_data.Duration_and_Cleaned_Time` GROUP BY start_hour ORDER BY num_trips DESC' > pop_hours.csv"
   ]
  },
  {
   "cell_type": "code",
   "execution_count": 23,
   "metadata": {},
   "outputs": [],
   "source": [
    "pop_hours = pd.read_csv('pop_hours.csv')"
   ]
  },
  {
   "cell_type": "code",
   "execution_count": 24,
   "metadata": {},
   "outputs": [
    {
     "data": {
      "text/html": [
       "<div>\n",
       "<style scoped>\n",
       "    .dataframe tbody tr th:only-of-type {\n",
       "        vertical-align: middle;\n",
       "    }\n",
       "\n",
       "    .dataframe tbody tr th {\n",
       "        vertical-align: top;\n",
       "    }\n",
       "\n",
       "    .dataframe thead th {\n",
       "        text-align: right;\n",
       "    }\n",
       "</style>\n",
       "<table border=\"1\" class=\"dataframe\">\n",
       "  <thead>\n",
       "    <tr style=\"text-align: right;\">\n",
       "      <th></th>\n",
       "      <th>num_trips</th>\n",
       "      <th>start_hour</th>\n",
       "    </tr>\n",
       "  </thead>\n",
       "  <tbody>\n",
       "    <tr>\n",
       "      <th>0</th>\n",
       "      <td>132060</td>\n",
       "      <td>8</td>\n",
       "    </tr>\n",
       "    <tr>\n",
       "      <th>1</th>\n",
       "      <td>125933</td>\n",
       "      <td>17</td>\n",
       "    </tr>\n",
       "    <tr>\n",
       "      <th>2</th>\n",
       "      <td>95420</td>\n",
       "      <td>9</td>\n",
       "    </tr>\n",
       "    <tr>\n",
       "      <th>3</th>\n",
       "      <td>88273</td>\n",
       "      <td>16</td>\n",
       "    </tr>\n",
       "    <tr>\n",
       "      <th>4</th>\n",
       "      <td>84311</td>\n",
       "      <td>18</td>\n",
       "    </tr>\n",
       "  </tbody>\n",
       "</table>\n",
       "</div>"
      ],
      "text/plain": [
       "   num_trips  start_hour\n",
       "0     132060           8\n",
       "1     125933          17\n",
       "2      95420           9\n",
       "3      88273          16\n",
       "4      84311          18"
      ]
     },
     "execution_count": 24,
     "metadata": {},
     "output_type": "execute_result"
    }
   ],
   "source": [
    "pop_hours.head(5)"
   ]
  },
  {
   "cell_type": "code",
   "execution_count": 25,
   "metadata": {},
   "outputs": [
    {
     "data": {
      "image/png": "[encoded data removed]",
      "text/plain": [
       "<Figure size 720x576 with 1 Axes>"
      ]
     },
     "metadata": {
      "needs_background": "light"
     },
     "output_type": "display_data"
    }
   ],
   "source": [
    "plt.figure(figsize=(10,8))\n",
    "sns.barplot(x = \"start_hour\", y = \"num_trips\", data = pop_hours, dodge=False)\n",
    "plt.title(\"Total Trips vs Start Hour\")\n",
    "plt.xlabel(\"Trip Start Hour\")\n",
    "plt.ylabel(\"Total Number of Trips\")\n",
    "plt.show()"
   ]
  },
  {
   "cell_type": "markdown",
   "metadata": {},
   "source": [
    "#### **Takeway from this Chart:**"
   ]
  },
  {
   "cell_type": "markdown",
   "metadata": {},
   "source": [
    "From this graph, we can see that the most trips occur at 7,8,and 9am and 4,5, and 6 p.m. Thus, it would appear that most of the trips are occuring at commuter hours. These are the hours that people are most likely to commute to and from work so it is probable that many of the bike trips are made by commuters to and from work."
   ]
  },
  {
   "cell_type": "markdown",
   "metadata": {},
   "source": [
    "### **2.6 Duration Minutes for 5 Most Popular Trips**"
   ]
  },
  {
   "cell_type": "code",
   "execution_count": 26,
   "metadata": {},
   "outputs": [
    {
     "name": "stdout",
     "output_type": "stream",
     "text": [
      "Waiting on bqjob_r128d4a86ba8abe90_00000174dd921a4c_1 ... (0s) Current status: DONE   \n"
     ]
    }
   ],
   "source": [
    "! bq query --use_legacy_sql=FALSE --format=csv --max_rows=1000000 'SELECT start_station_name, end_station_name, AVG(duration_minutes) as mean_mins,count(*) AS number_of_trips FROM `september-2020-288223.bike_trip_data.Duration_and_Cleaned_Time` WHERE start_station_name <> end_station_name GROUP BY start_station_name, end_station_name ORDER BY number_of_trips DESC LIMIT 5' > pop_trips.csv"
   ]
  },
  {
   "cell_type": "code",
   "execution_count": 27,
   "metadata": {},
   "outputs": [],
   "source": [
    "pop_trips = pd.read_csv('pop_trips.csv')"
   ]
  },
  {
   "cell_type": "code",
   "execution_count": 28,
   "metadata": {},
   "outputs": [
    {
     "data": {
      "text/html": [
       "<div>\n",
       "<style scoped>\n",
       "    .dataframe tbody tr th:only-of-type {\n",
       "        vertical-align: middle;\n",
       "    }\n",
       "\n",
       "    .dataframe tbody tr th {\n",
       "        vertical-align: top;\n",
       "    }\n",
       "\n",
       "    .dataframe thead th {\n",
       "        text-align: right;\n",
       "    }\n",
       "</style>\n",
       "<table border=\"1\" class=\"dataframe\">\n",
       "  <thead>\n",
       "    <tr style=\"text-align: right;\">\n",
       "      <th></th>\n",
       "      <th>start_station_name</th>\n",
       "      <th>end_station_name</th>\n",
       "      <th>mean_mins</th>\n",
       "      <th>number_of_trips</th>\n",
       "    </tr>\n",
       "  </thead>\n",
       "  <tbody>\n",
       "    <tr>\n",
       "      <th>0</th>\n",
       "      <td>Harry Bridges Plaza (Ferry Building)</td>\n",
       "      <td>Embarcadero at Sansome</td>\n",
       "      <td>16.501051</td>\n",
       "      <td>9043</td>\n",
       "    </tr>\n",
       "    <tr>\n",
       "      <th>1</th>\n",
       "      <td>San Francisco Caltrain 2 (330 Townsend)</td>\n",
       "      <td>Townsend at 7th</td>\n",
       "      <td>4.368204</td>\n",
       "      <td>8498</td>\n",
       "    </tr>\n",
       "    <tr>\n",
       "      <th>2</th>\n",
       "      <td>2nd at Townsend</td>\n",
       "      <td>Harry Bridges Plaza (Ferry Building)</td>\n",
       "      <td>9.141261</td>\n",
       "      <td>7610</td>\n",
       "    </tr>\n",
       "    <tr>\n",
       "      <th>3</th>\n",
       "      <td>Harry Bridges Plaza (Ferry Building)</td>\n",
       "      <td>2nd at Townsend</td>\n",
       "      <td>10.369170</td>\n",
       "      <td>6883</td>\n",
       "    </tr>\n",
       "    <tr>\n",
       "      <th>4</th>\n",
       "      <td>Embarcadero at Sansome</td>\n",
       "      <td>Steuart at Market</td>\n",
       "      <td>7.679889</td>\n",
       "      <td>6857</td>\n",
       "    </tr>\n",
       "  </tbody>\n",
       "</table>\n",
       "</div>"
      ],
      "text/plain": [
       "                        start_station_name  \\\n",
       "0     Harry Bridges Plaza (Ferry Building)   \n",
       "1  San Francisco Caltrain 2 (330 Townsend)   \n",
       "2                          2nd at Townsend   \n",
       "3     Harry Bridges Plaza (Ferry Building)   \n",
       "4                   Embarcadero at Sansome   \n",
       "\n",
       "                       end_station_name  mean_mins  number_of_trips  \n",
       "0                Embarcadero at Sansome  16.501051             9043  \n",
       "1                       Townsend at 7th   4.368204             8498  \n",
       "2  Harry Bridges Plaza (Ferry Building)   9.141261             7610  \n",
       "3                       2nd at Townsend  10.369170             6883  \n",
       "4                     Steuart at Market   7.679889             6857  "
      ]
     },
     "execution_count": 28,
     "metadata": {},
     "output_type": "execute_result"
    }
   ],
   "source": [
    "pop_trips"
   ]
  },
  {
   "cell_type": "code",
   "execution_count": 29,
   "metadata": {},
   "outputs": [
    {
     "data": {
      "image/png": "[encoded data removed]",
      "text/plain": [
       "<Figure size 720x576 with 1 Axes>"
      ]
     },
     "metadata": {
      "needs_background": "light"
     },
     "output_type": "display_data"
    }
   ],
   "source": [
    "trips  = []\n",
    "for i in np.arange(5):\n",
    "     trips.append(pop_trips[\"start_station_name\"][i] + str(\" to \") + pop_trips[\"end_station_name\"][i])\n",
    "pop_trips[\"trips\"] = trips\n",
    "plt.figure(figsize=(10,8))\n",
    "sns.barplot(x = list(np.arange(1,6)), y = \"mean_mins\", hue = \"trips\", data = pop_trips, dodge=False)\n",
    "plt.legend(bbox_to_anchor=(1.01, 1),borderaxespad=0)\n",
    "plt.title(\" Average Bike Times of 5 Most Popular Trips\")\n",
    "plt.xlabel(\"Trips In Order of Popularity\")\n",
    "plt.ylabel(\"Average Minutes Per Trip\")\n",
    "plt.show()"
   ]
  },
  {
   "cell_type": "markdown",
   "metadata": {},
   "source": [
    "#### **Takeaway from this Chart:**"
   ]
  },
  {
   "cell_type": "markdown",
   "metadata": {},
   "source": [
    "As one can see from the graph above, the 5 most popular trips in terms of number of bike rides are on average less than 30 mins. The closest bike trip that comes close to 30 mins is the most popular trip which is from the Ferry Building to Embarcadero at Sansome which is on average 16 mins. Lyft Bay Wheels' currently offers a monthly membership for 15 dollars per month which offers members unlimited 45 minute rides. If the ride is longer than 30 minutes, members pay an additional 3 dollars per hour. On the other hand, non-members must pay for single rides. Each single ride is 2 dollars for the first 30 minutes and then an additional 3 dollars for every 15 minutes after. Considering most of the trips are made by members, it would make sense to raise the price. "
   ]
  },
  {
   "cell_type": "markdown",
   "metadata": {},
   "source": [
    "### **2.7 Average Duration for All Trips** \n",
    "Average time of a trip, disregarding trips above the 99th percentile of 3.2 hours: **12 minutes**\n",
    "\n",
    "SQL Query:\n",
    "```sql\n",
    "   SELECT AVG(duration_minutes) \n",
    "   FROM `september-2020-288223.bike_trip_data.Duration_and_Cleaned_Time` \n",
    "   ```"
   ]
  },
  {
   "cell_type": "markdown",
   "metadata": {},
   "source": [
    "## **3. Recommendations Based on Data and Takeaways**"
   ]
  },
  {
   "cell_type": "markdown",
   "metadata": {},
   "source": [
    "I found that a majority of the riders are subscribers instead of commuters. A larger percentage of subscribers ride bikes at commuting hours such as 7 - 9am and 4pm-6pm (2.4) and almost all subscriber trips, about 93% are made on weekdays instead of weekends(2.3). Due to these facts, the data shows that most of the subscribers use the bikes to commute to and from work. Because about 87% of trips are made by subscribers (2.1), I believe subscribers and thus commuters are the main users of Lyft bikes. They are the main target demographic. On the other hand, a larger percentage of customer trips are made at 12,1,2,and 3pm(2.4) and about 60% of trips occur on weekends (2.3). Due to this, the data shows that most of the customers, unlike the subscribers, do not ride the bikes for commuting purposes. \n",
    "   \n",
    "Furthermore, I learned that the average trip is about 12 minutes(2.7). The average bikes times of the 5 most popular trips, subscriber or customer, are all under 30 minutes. Almost all of the trips made by subscribers are under 25 minutes. Many of the trips made by customers are also under 25 minutes; however unlike the distribution for the subscriber trip durations, the distribution for the customer trip durations has a long tail. This means that a greater fraction of customers than subscribers take trips that are much longer than 25 minutes. A greater percent of customers are riding longer than subscribers. \n",
    "    \n",
    "Because most customers are subscribers and most subscribers appear to be commuters that ride bikes for less than 30 minutes, I would suggest either increasing the amount of the monthly or yearly membership or decreasing the amount of time per trip that is included as a part of the membership with no additional fee. Members currently receive unlimited 45 minute bike rides and must pay an additional 3 dollars per 15 minutes; however, most members ride under 30 minutes meaning Lyft Bay Wheels is not receiving the additional 3 dollars per 15 minutes very frequently from subscribers. Decreasing the amount of time per trip that is included as a part of the additional membership to perhaps 20 minutes would increase revenue for the company. Increasing the membership fee and leaving the 45 free minutes as is could also increase revenue. Because riding a bike to work is a much cheaper alternative of commuting to work than BART, UBER, or driving, the company could test how much more revenue they could receive by increasing the price of membership or decreasing the amount of free minutes included per trip as part of membership. The demand for traveling to work should be relatively inelastic if the price of membership remains less than the prices of the other means of transportation. However, because most of the bike trips are under 30 minutes, it may be possible for a large segment of the commuters to walk to work instead of riding their bikes. Comparing the opportunity cost of time saved from walking to work to the cost of membership could help the company determine the optimal price.\n",
    "   \n",
    "Another recommendation is to increase marketing for the corporate memberships deal. Lyft Bay Wheels' corporate membership deal allows companies to purchase subsidized plans for their employees. Because one of Lyft Bay Wheels' largest target demographic is commuters to and from work, the company could increase the number of bike trips by partnering with more companies to capture the commuter demographic. "
   ]
  },
  {
   "cell_type": "markdown",
   "metadata": {},
   "source": [
    "## **4. Appendix**"
   ]
  },
  {
   "cell_type": "markdown",
   "metadata": {},
   "source": [
    "### **4.1 Information About Views Used**"
   ]
  },
  {
   "cell_type": "markdown",
   "metadata": {},
   "source": [
    "#### **4.1.1 List of Views Used For My Analysis in Notebook:**\n",
    "1. `september-2020-288223.bike_trip_data.Duration_and_Cleaned_Time` \n",
    "2. `september-2020-288223.bike_trip_data.Duration_Table`"
   ]
  },
  {
   "cell_type": "markdown",
   "metadata": {},
   "source": [
    "#### **4.1.2 Explanation about Views:**\n",
    "1. The Duration_and_Cleaned_Time table is built from the Duration_Table. The Duration_and_Cleaned_Time_Table includes all of the data from the Duration_Table but it adds the day of week, time of day, and start hour of each trip. It also filters the Duration_Table to only include bike trips that lasted under 3.2 hours which represents the 99th percentile of the duration of all bike trips.\n",
    "\n",
    "```\n",
    "Query for 99th percentile of 3.2 hours:\n",
    "```\n",
    "\n",
    "```sql\n",
    "SELECT APPROX_QUANTILES(duration_minutes, 100)[OFFSET(99)] AS percentile_99,\n",
    "FROM `september-2020-288223.bike_trip_data.Duration_Table`\n",
    "```\n",
    "```\n",
    "192/60 = 3.16 = 3.2 hours\n",
    "```\n"
   ]
  },
  {
   "cell_type": "markdown",
   "metadata": {},
   "source": [
    "2. The Duration_Table is built from the `bigquery-public-data.san_francisco.bikeshare_trips` table. It includes select columns from the bike_share_trips table and adds the duration minutes, duration hours rounded, and duration hours rounded to the tenths place for each trip."
   ]
  },
  {
   "cell_type": "markdown",
   "metadata": {},
   "source": [
    "### **4.2 Queries to Get Views**"
   ]
  },
  {
   "cell_type": "markdown",
   "metadata": {},
   "source": [
    "#### **4.2.1 Query for `september-2020-288223.bike_trip_data.Duration_and_Cleaned_Time`**\n",
    "```sql\n",
    "select *,   \n",
    "       EXTRACT(DAYOFWEEK FROM start_date) AS dow_int,\n",
    "       CASE EXTRACT(DAYOFWEEK FROM start_date)\n",
    "           WHEN 1 THEN \"Sunday\"\n",
    "           WHEN 2 THEN \"Monday\"\n",
    "           WHEN 3 THEN \"Tuesday\"\n",
    "           WHEN 4 THEN \"Wednesday\"\n",
    "           WHEN 5 THEN \"Thursday\"\n",
    "           WHEN 6 THEN \"Friday\"\n",
    "           WHEN 7 THEN \"Saturday\"\n",
    "           END AS dow_str,\n",
    "       CASE \n",
    "           WHEN EXTRACT(DAYOFWEEK FROM start_date) IN (1, 7) THEN \"Weekend\"\n",
    "           ELSE \"Weekday\"\n",
    "           END AS dow_weekday,\n",
    "       EXTRACT(HOUR FROM start_date) AS start_hour,\n",
    "       CASE \n",
    "           WHEN EXTRACT(HOUR FROM start_date) <= 5  OR EXTRACT(HOUR FROM start_date) >= 23 THEN \"Nightime\"\n",
    "           WHEN EXTRACT(HOUR FROM start_date) >= 6 and EXTRACT(HOUR FROM start_date) <= 8 THEN \"Morning\"\n",
    "           WHEN EXTRACT(HOUR FROM start_date) >= 9 and EXTRACT(HOUR FROM start_date) <= 10 THEN \"Mid Morning\"\n",
    "           WHEN EXTRACT(HOUR FROM start_date) >= 11 and EXTRACT(HOUR FROM start_date) <= 13 THEN \"Mid Day\"\n",
    "           WHEN EXTRACT(HOUR FROM start_date) >= 14 and EXTRACT(HOUR FROM start_date) <= 16 THEN \"Early Afternoon\"\n",
    "           WHEN EXTRACT(HOUR FROM start_date) >= 17 and EXTRACT(HOUR FROM start_date) <= 19 THEN \"Afternoon\"\n",
    "           WHEN EXTRACT(HOUR FROM start_date) >= 20 and EXTRACT(HOUR FROM start_date) <= 22 THEN \"Evening\"\n",
    "           END AS start_hour_str\n",
    "FROM `september-2020-288223.bike_trip_data.Duration_Table`\n",
    "WHERE duration_hours_tenths <= 3.2\n",
    "```"
   ]
  },
  {
   "cell_type": "markdown",
   "metadata": {},
   "source": [
    "#### **4.2.2 Query for `september-2020-288223.bike_trip_data.Duration_Table`**\n",
    "```sql\n",
    "select trip_id,start_date, duration_sec,start_station_name,start_station_id, end_date,end_station_name,end_station_id,bike_number,zip_code,subscriber_type,\n",
    "       CAST(ROUND(duration_sec / 60.0) AS INT64) AS duration_minutes,\n",
    "       CAST(ROUND(duration_sec / 3600.0) AS INT64) AS duration_hours_rounded,\n",
    "       ROUND(duration_sec / 3600.0, 1) AS duration_hours_tenths\n",
    "FROM `bigquery-public-data.san_francisco.bikeshare_trips`\n",
    "ORDER BY start_date ASC\n",
    "```"
   ]
  }
 ],
 "metadata": {
  "environment": {
   "name": "tf2-2-3-gpu.2-3.m55",
   "type": "gcloud",
   "uri": "gcr.io/deeplearning-platform-release/tf2-2-3-gpu.2-3:m55"
  },
  "kernelspec": {
   "display_name": "Python 3",
   "language": "python",
   "name": "python3"
  },
  "language_info": {
   "codemirror_mode": {
    "name": "ipython",
    "version": 3
   },
   "file_extension": ".py",
   "mimetype": "text/x-python",
   "name": "python",
   "nbconvert_exporter": "python",
   "pygments_lexer": "ipython3",
   "version": "3.7.6"
  }
 },
 "nbformat": 4,
 "nbformat_minor": 4
}
