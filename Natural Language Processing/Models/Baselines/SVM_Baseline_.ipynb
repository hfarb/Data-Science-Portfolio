{
 "cells": [
  {
   "cell_type": "markdown",
   "metadata": {},
   "source": [
    "# Upload All Data"
   ]
  },
  {
   "cell_type": "code",
   "execution_count": 22,
   "metadata": {},
   "outputs": [
    {
     "name": "stderr",
     "output_type": "stream",
     "text": [
      "[nltk_data] Downloading package stopwords to\n",
      "[nltk_data]     /Users/daniellampert/nltk_data...\n",
      "[nltk_data]   Package stopwords is already up-to-date!\n",
      "[nltk_data] Downloading package wordnet to\n",
      "[nltk_data]     /Users/daniellampert/nltk_data...\n",
      "[nltk_data]   Package wordnet is already up-to-date!\n"
     ]
    }
   ],
   "source": [
    "#user defined module\n",
    "import load_data\n",
    "import clean_text\n",
    "from importlib import reload\n",
    "#standard packages\n",
    "import numpy as np\n",
    "import pandas as pd\n",
    "import matplotlib.pyplot as plt\n",
    "from matplotlib.ticker import MultipleLocator\n",
    "#Sk-learn functions\n",
    "from sklearn.model_selection import train_test_split\n",
    "from sklearn.feature_extraction.text import TfidfVectorizer\n",
    "from sklearn import model_selection, naive_bayes, svm\n",
    "from sklearn.metrics import accuracy_score\n",
    "from sklearn.linear_model import LogisticRegression\n",
    "from sklearn.neighbors import KNeighborsClassifier\n",
    "#Utility\n",
    "from collections import Counter\n",
    "#NLTK\n",
    "import nltk\n",
    "nltk.download('stopwords')\n",
    "nltk.download('wordnet')\n",
    "from nltk.corpus import stopwords\n",
    "from nltk.stem import PorterStemmer\n",
    "from nltk.stem import WordNetLemmatizer\n",
    "from nltk import sent_tokenize, word_tokenize\n",
    "#tensorflow\n",
    "#from __future__ import absolute_import, division, print_function\n",
    "import time\n",
    "import tensorflow as tf\n",
    "np.random.seed(77)"
   ]
  },
  {
   "cell_type": "markdown",
   "metadata": {},
   "source": [
    "## Upload data for train, early bird, and test with load_data module"
   ]
  },
  {
   "cell_type": "code",
   "execution_count": 11,
   "metadata": {},
   "outputs": [
    {
     "name": "stderr",
     "output_type": "stream",
     "text": [
      "/Users/daniellampert/Desktop/w266/bot_id_pan/bot_id_pan/load_data.py:29: ParserWarning: Falling back to the 'python' engine because the 'c' engine does not support regex separators (separators > 1 char and different from '\\s+' are interpreted as regex); you can avoid this warning by specifying engine='python'.\n",
      "  labels = pd.read_csv(path_to_text, delimiter = \"\\:::\",header = None)\n"
     ]
    }
   ],
   "source": [
    "reload(load_data)\n",
    "path_to_train = 'pan_bot_id/pan19-author-profiling-training-2019-02-18/en/'\n",
    "train_data = load_data.read_all_data(path_to_train)"
   ]
  },
  {
   "cell_type": "code",
   "execution_count": 12,
   "metadata": {},
   "outputs": [],
   "source": [
    "path_to_early_bird = 'pan_bot_id/pan19-author-profiling-earlybirds-20190320/en/'\n",
    "early_bird_data = load_data.read_all_data(path_to_early_bird)"
   ]
  },
  {
   "cell_type": "code",
   "execution_count": 13,
   "metadata": {},
   "outputs": [],
   "source": [
    "path_to_test = 'pan_bot_id/pan19-author-profiling-test-2019-04-29/en/'\n",
    "test_data = load_data.read_all_data(path_to_test)"
   ]
  },
  {
   "cell_type": "code",
   "execution_count": 14,
   "metadata": {},
   "outputs": [
    {
     "data": {
      "text/html": [
       "<div>\n",
       "<style scoped>\n",
       "    .dataframe tbody tr th:only-of-type {\n",
       "        vertical-align: middle;\n",
       "    }\n",
       "\n",
       "    .dataframe tbody tr th {\n",
       "        vertical-align: top;\n",
       "    }\n",
       "\n",
       "    .dataframe thead th {\n",
       "        text-align: right;\n",
       "    }\n",
       "</style>\n",
       "<table border=\"1\" class=\"dataframe\">\n",
       "  <thead>\n",
       "    <tr style=\"text-align: right;\">\n",
       "      <th></th>\n",
       "      <th>tweet_id</th>\n",
       "      <th>tweets</th>\n",
       "      <th>bot</th>\n",
       "    </tr>\n",
       "  </thead>\n",
       "  <tbody>\n",
       "    <tr>\n",
       "      <th>0</th>\n",
       "      <td>867be96f95dfc4e24541d19c6a5ab8bf</td>\n",
       "      <td>Alex is too nice for love island :(</td>\n",
       "      <td>human</td>\n",
       "    </tr>\n",
       "    <tr>\n",
       "      <th>1</th>\n",
       "      <td>867be96f95dfc4e24541d19c6a5ab8bf</td>\n",
       "      <td>RT @STVNews: Teenager charged with rape of wom...</td>\n",
       "      <td>human</td>\n",
       "    </tr>\n",
       "    <tr>\n",
       "      <th>2</th>\n",
       "      <td>867be96f95dfc4e24541d19c6a5ab8bf</td>\n",
       "      <td>@LipsTaco @jennyhastie</td>\n",
       "      <td>human</td>\n",
       "    </tr>\n",
       "    <tr>\n",
       "      <th>3</th>\n",
       "      <td>867be96f95dfc4e24541d19c6a5ab8bf</td>\n",
       "      <td>@RyanDunbar8 happy bday Ryan have the best day...</td>\n",
       "      <td>human</td>\n",
       "    </tr>\n",
       "    <tr>\n",
       "      <th>4</th>\n",
       "      <td>867be96f95dfc4e24541d19c6a5ab8bf</td>\n",
       "      <td>@jennyhastie @bootywhispers I just wanna let j...</td>\n",
       "      <td>human</td>\n",
       "    </tr>\n",
       "  </tbody>\n",
       "</table>\n",
       "</div>"
      ],
      "text/plain": [
       "                           tweet_id  \\\n",
       "0  867be96f95dfc4e24541d19c6a5ab8bf   \n",
       "1  867be96f95dfc4e24541d19c6a5ab8bf   \n",
       "2  867be96f95dfc4e24541d19c6a5ab8bf   \n",
       "3  867be96f95dfc4e24541d19c6a5ab8bf   \n",
       "4  867be96f95dfc4e24541d19c6a5ab8bf   \n",
       "\n",
       "                                              tweets    bot  \n",
       "0                Alex is too nice for love island :(  human  \n",
       "1  RT @STVNews: Teenager charged with rape of wom...  human  \n",
       "2                             @LipsTaco @jennyhastie  human  \n",
       "3  @RyanDunbar8 happy bday Ryan have the best day...  human  \n",
       "4  @jennyhastie @bootywhispers I just wanna let j...  human  "
      ]
     },
     "execution_count": 14,
     "metadata": {},
     "output_type": "execute_result"
    }
   ],
   "source": [
    "train_data.head()\n"
   ]
  },
  {
   "cell_type": "code",
   "execution_count": 15,
   "metadata": {},
   "outputs": [
    {
     "data": {
      "text/html": [
       "<div>\n",
       "<style scoped>\n",
       "    .dataframe tbody tr th:only-of-type {\n",
       "        vertical-align: middle;\n",
       "    }\n",
       "\n",
       "    .dataframe tbody tr th {\n",
       "        vertical-align: top;\n",
       "    }\n",
       "\n",
       "    .dataframe thead th {\n",
       "        text-align: right;\n",
       "    }\n",
       "</style>\n",
       "<table border=\"1\" class=\"dataframe\">\n",
       "  <thead>\n",
       "    <tr style=\"text-align: right;\">\n",
       "      <th></th>\n",
       "      <th>tweet_id</th>\n",
       "      <th>tweets</th>\n",
       "      <th>bot</th>\n",
       "    </tr>\n",
       "  </thead>\n",
       "  <tbody>\n",
       "    <tr>\n",
       "      <th>0</th>\n",
       "      <td>5ac1aafe060f39f2dc5ae45d14656630</td>\n",
       "      <td>RT @africanstudies: Book launch today for @Mag...</td>\n",
       "      <td>human</td>\n",
       "    </tr>\n",
       "    <tr>\n",
       "      <th>1</th>\n",
       "      <td>5ac1aafe060f39f2dc5ae45d14656630</td>\n",
       "      <td>RT @seam_project: Join the #MethodsMatter conv...</td>\n",
       "      <td>human</td>\n",
       "    </tr>\n",
       "    <tr>\n",
       "      <th>2</th>\n",
       "      <td>5ac1aafe060f39f2dc5ae45d14656630</td>\n",
       "      <td>These are the kind of University meetings that...</td>\n",
       "      <td>human</td>\n",
       "    </tr>\n",
       "    <tr>\n",
       "      <th>3</th>\n",
       "      <td>5ac1aafe060f39f2dc5ae45d14656630</td>\n",
       "      <td>In my office and on sale now (also with cheape...</td>\n",
       "      <td>human</td>\n",
       "    </tr>\n",
       "    <tr>\n",
       "      <th>4</th>\n",
       "      <td>5ac1aafe060f39f2dc5ae45d14656630</td>\n",
       "      <td>Such a pity I am not free tomorrow. But if you...</td>\n",
       "      <td>human</td>\n",
       "    </tr>\n",
       "  </tbody>\n",
       "</table>\n",
       "</div>"
      ],
      "text/plain": [
       "                           tweet_id  \\\n",
       "0  5ac1aafe060f39f2dc5ae45d14656630   \n",
       "1  5ac1aafe060f39f2dc5ae45d14656630   \n",
       "2  5ac1aafe060f39f2dc5ae45d14656630   \n",
       "3  5ac1aafe060f39f2dc5ae45d14656630   \n",
       "4  5ac1aafe060f39f2dc5ae45d14656630   \n",
       "\n",
       "                                              tweets    bot  \n",
       "0  RT @africanstudies: Book launch today for @Mag...  human  \n",
       "1  RT @seam_project: Join the #MethodsMatter conv...  human  \n",
       "2  These are the kind of University meetings that...  human  \n",
       "3  In my office and on sale now (also with cheape...  human  \n",
       "4  Such a pity I am not free tomorrow. But if you...  human  "
      ]
     },
     "execution_count": 15,
     "metadata": {},
     "output_type": "execute_result"
    }
   ],
   "source": [
    "early_bird_data.head()"
   ]
  },
  {
   "cell_type": "markdown",
   "metadata": {},
   "source": [
    "## EDA and Pre-Process Data for Baseline"
   ]
  },
  {
   "cell_type": "code",
   "execution_count": 16,
   "metadata": {},
   "outputs": [
    {
     "data": {
      "text/plain": [
       "['@cyberrboi',\n",
       " '@ShowDemCamp',\n",
       " '@MosJollof',\n",
       " '@MNLNDBlockParty',\n",
       " 'If',\n",
       " 'you',\n",
       " 'leave',\n",
       " 'In',\n",
       " 'max',\n",
       " '2',\n",
       " 'hours,',\n",
       " \"you'd\",\n",
       " 'be',\n",
       " 'here',\n",
       " 'just',\n",
       " 'in',\n",
       " 'time',\n",
       " '😊']"
      ]
     },
     "execution_count": 16,
     "metadata": {},
     "output_type": "execute_result"
    }
   ],
   "source": [
    "words = []\n",
    "for string in train_data['tweets']:\n",
    "    split = string.split()\n",
    "split\n",
    "# for i in range(0, len(split), 1):\n",
    "#     words.append(\" \".join(split[i:i+1]))\n",
    "# train_"
   ]
  },
  {
   "cell_type": "code",
   "execution_count": 17,
   "metadata": {},
   "outputs": [],
   "source": [
    "def most_common_word_plot(corpus, title, num_words, name):\n",
    "    \"Plots most common words in corpurs\"\n",
    "    words = []\n",
    "    for string in corpus:\n",
    "        split = string.split()\n",
    "        for i in range(0, len(split), 1):\n",
    "            words.append(\" \".join(split[i:i+1]))\n",
    "\n",
    "    most_occur =  Counter(words).most_common(100) \n",
    "      \n",
    "    custom_stopwords = [ 'a', 'of', 'be', \"i'm\", \"i've\"]\n",
    "    custom_stopwords.extend(stopwords.words('english'))\n",
    "    most_occur_cleaned = []\n",
    "    for i in most_occur:\n",
    "        if i[0].lower() not in custom_stopwords:\n",
    "            most_occur_cleaned.append(i)\n",
    "  # only include top num_words:\n",
    "    most_occur_cleaned = most_occur_cleaned[:num_words]\n",
    "    labels, values = zip(*most_occur_cleaned)\n",
    "    indexes = np.arange(len(labels))\n",
    "    plt.figure(figsize=(12, 6), dpi=80)\n",
    "    bar_width = 0.35\n",
    "    plt.xticks(rotation=40)\n",
    "    plt.bar(indexes, values)\n",
    "    plt.title(title)\n",
    "    plt.xlabel('Words')\n",
    "    plt.ylabel('Number of Occurences')\n",
    "  # add labels\n",
    "    plt.xticks(indexes, labels)\n",
    "    plt.savefig(name + '.jpg')\n",
    "    plt.show()"
   ]
  },
  {
   "cell_type": "code",
   "execution_count": 35,
   "metadata": {},
   "outputs": [
    {
     "name": "stdout",
     "output_type": "stream",
     "text": [
      "['a', 2, 3, 1, False]\n"
     ]
    }
   ],
   "source": [
    "messy_list = [\"a\", 2, 3, 1, False, [1, 2, 3]] \n",
    "\n",
    "cleaned = [item for item in messy_list if not isinstance(item,list)]\n",
    "\n",
    "print(cleaned)"
   ]
  },
  {
   "cell_type": "code",
   "execution_count": 55,
   "metadata": {},
   "outputs": [],
   "source": [
    "stop_words = stopwords.words('english')\n",
    "stop_words.extend([':', ',', '(', ')', '-', '/', '?', \"!\"])\n",
    "def tokenize_tweet(tweet):\n",
    "    \"Tokenizes a tweet\"\n",
    "    word_tokens = word_tokenize(tweet) \n",
    "    filtered_sentence = [w for w in word_tokens if not w in stop_words] \n",
    "    filtered_sentence = [] \n",
    "    for w in word_tokens: \n",
    "        if w not in stop_words: \n",
    "            filtered_sentence.append(w)\n",
    "    return filtered_sentence\n",
    "a = [tokenize_tweet(tweet) for tweet in train_data['tweets'][1:5]]"
   ]
  },
  {
   "cell_type": "code",
   "execution_count": 56,
   "metadata": {},
   "outputs": [],
   "source": [
    "def most_common_word_plot(corpus, title, num_words, name):\n",
    "    \"Plots most common words in corpurs\"\n",
    "    all_words = []\n",
    "    for tweet in corpus:\n",
    "        tokens = tokenize_tweet(tweet)\n",
    "        for token in tokens:\n",
    "            all_words.append(token)\n",
    "    most_occur =  Counter(all_words).most_common(100) \n",
    "  # only include top num_words:\n",
    "    most_occur = most_occur[:num_words]\n",
    "    labels, values = zip(*most_occur)\n",
    "    print(labels, values)\n",
    "    indexes = np.arange(len(labels))\n",
    "    plt.figure(figsize=(12, 6), dpi=80)\n",
    "    bar_width = 0.35\n",
    "    plt.xticks(rotation=40)\n",
    "    plt.bar(indexes, values)\n",
    "    plt.title(title)\n",
    "    plt.xlabel('Words')\n",
    "    plt.ylabel('Number of Occurences')\n",
    "  # add labels\n",
    "    plt.xticks(indexes, labels)\n",
    "    plt.savefig(name + '.jpg')\n",
    "    plt.show()"
   ]
  },
  {
   "cell_type": "markdown",
   "metadata": {},
   "source": [
    "### Most common words in training data"
   ]
  },
  {
   "cell_type": "code",
   "execution_count": 57,
   "metadata": {},
   "outputs": [],
   "source": [
    "datas = [train_data, test_data, early_bird_data]\n",
    "all_data = pd.concat(datas)"
   ]
  },
  {
   "cell_type": "code",
   "execution_count": 58,
   "metadata": {
    "scrolled": true
   },
   "outputs": [
    {
     "name": "stdout",
     "output_type": "stream",
     "text": [
      "('@', 'https', '.', '#', 'RT', 'I', 'http', \"'s\", '’', 'The') (432575, 373648, 356485, 297443, 146332, 124224, 97006, 70849, 62479, 54660)\n"
     ]
    },
    {
     "data": {
      "image/png": "[encoded data removed]",
      "text/plain": [
       "<Figure size 960x480 with 1 Axes>"
      ]
     },
     "metadata": {
      "needs_background": "light"
     },
     "output_type": "display_data"
    }
   ],
   "source": [
    "most_common_word_plot(all_data['tweets'], 'Most Frequent Tokens in Tweets', 10, \"all_train_extra_correct_right\")"
   ]
  },
  {
   "cell_type": "code",
   "execution_count": 59,
   "metadata": {},
   "outputs": [
    {
     "name": "stdout",
     "output_type": "stream",
     "text": [
      "('https', '#', '.', 'http', '@', '–', 'I', 'The', \"'s\", ';') (226209, 170237, 168683, 82643, 61357, 48232, 39695, 33977, 31622, 29939)\n"
     ]
    },
    {
     "data": {
      "image/png": "[encoded data removed]",
      "text/plain": [
       "<Figure size 960x480 with 1 Axes>"
      ]
     },
     "metadata": {
      "needs_background": "light"
     },
     "output_type": "display_data"
    }
   ],
   "source": [
    "just_bots = all_data[all_data['bot'] == 'bot']\n",
    "most_common_word_plot(just_bots['tweets'], 'Most Frequent Words in Tokens From Bots', 10, 'justbots_graph_extra_right')"
   ]
  },
  {
   "cell_type": "code",
   "execution_count": 60,
   "metadata": {},
   "outputs": [
    {
     "name": "stdout",
     "output_type": "stream",
     "text": [
      "('@', '.', 'https', '#', 'RT', 'I', '’', \"'s\", '...', 'The') (216712, 111514, 83982, 73651, 73434, 50900, 27791, 23025, 13808, 12292)\n"
     ]
    },
    {
     "data": {
      "image/png": "[encoded data removed]",
      "text/plain": [
       "<Figure size 960x480 with 1 Axes>"
      ]
     },
     "metadata": {
      "needs_background": "light"
     },
     "output_type": "display_data"
    }
   ],
   "source": [
    "just_humans = train_data[train_data['bot'] == 'human']\n",
    "most_common_word_plot(just_humans['tweets'], 'Most Frequent Words in Tokens from Humans', 10, 'justhumans_graph_extra_right')"
   ]
  },
  {
   "cell_type": "markdown",
   "metadata": {},
   "source": [
    "#### The fourth entry is an emoji and the 5th is a suspicious link"
   ]
  },
  {
   "cell_type": "code",
   "execution_count": 69,
   "metadata": {},
   "outputs": [
    {
     "data": {
      "text/plain": [
       "<module 'clean_text' from '/Users/daniellampert/Desktop/w266/bot_id_pan/bot_id_pan/clean_text.py'>"
      ]
     },
     "execution_count": 69,
     "metadata": {},
     "output_type": "execute_result"
    }
   ],
   "source": [
    "reload(clean_text)"
   ]
  },
  {
   "cell_type": "code",
   "execution_count": 70,
   "metadata": {},
   "outputs": [],
   "source": [
    "train_data_base = clean_text.clean_text(train_data)\n",
    "earlybird_data_base = clean_text.clean_text(early_bird_data)\n",
    "test_data_base = clean_text.clean_text(test_data)"
   ]
  },
  {
   "cell_type": "code",
   "execution_count": 71,
   "metadata": {
    "scrolled": true
   },
   "outputs": [
    {
     "data": {
      "text/html": [
       "<div>\n",
       "<style scoped>\n",
       "    .dataframe tbody tr th:only-of-type {\n",
       "        vertical-align: middle;\n",
       "    }\n",
       "\n",
       "    .dataframe tbody tr th {\n",
       "        vertical-align: top;\n",
       "    }\n",
       "\n",
       "    .dataframe thead th {\n",
       "        text-align: right;\n",
       "    }\n",
       "</style>\n",
       "<table border=\"1\" class=\"dataframe\">\n",
       "  <thead>\n",
       "    <tr style=\"text-align: right;\">\n",
       "      <th></th>\n",
       "      <th>tweet_id</th>\n",
       "      <th>tweets</th>\n",
       "      <th>bot</th>\n",
       "    </tr>\n",
       "  </thead>\n",
       "  <tbody>\n",
       "    <tr>\n",
       "      <th>0</th>\n",
       "      <td>867be96f95dfc4e24541d19c6a5ab8bf</td>\n",
       "      <td>['alex', 'is', 'too', 'nice', 'for', 'love', '...</td>\n",
       "      <td>human</td>\n",
       "    </tr>\n",
       "    <tr>\n",
       "      <th>1</th>\n",
       "      <td>867be96f95dfc4e24541d19c6a5ab8bf</td>\n",
       "      <td>['rt', '@', 'stvnews', ':', 'teenager', 'charg...</td>\n",
       "      <td>human</td>\n",
       "    </tr>\n",
       "    <tr>\n",
       "      <th>2</th>\n",
       "      <td>867be96f95dfc4e24541d19c6a5ab8bf</td>\n",
       "      <td>['@', 'lipstaco', '@', 'jennyhastie']</td>\n",
       "      <td>human</td>\n",
       "    </tr>\n",
       "    <tr>\n",
       "      <th>3</th>\n",
       "      <td>867be96f95dfc4e24541d19c6a5ab8bf</td>\n",
       "      <td>['@', 'ryandunbar8', 'happy', 'bday', 'ryan', ...</td>\n",
       "      <td>human</td>\n",
       "    </tr>\n",
       "    <tr>\n",
       "      <th>4</th>\n",
       "      <td>867be96f95dfc4e24541d19c6a5ab8bf</td>\n",
       "      <td>['@', 'jennyhastie', '@', 'bootywhispers', 'i'...</td>\n",
       "      <td>human</td>\n",
       "    </tr>\n",
       "  </tbody>\n",
       "</table>\n",
       "</div>"
      ],
      "text/plain": [
       "                           tweet_id  \\\n",
       "0  867be96f95dfc4e24541d19c6a5ab8bf   \n",
       "1  867be96f95dfc4e24541d19c6a5ab8bf   \n",
       "2  867be96f95dfc4e24541d19c6a5ab8bf   \n",
       "3  867be96f95dfc4e24541d19c6a5ab8bf   \n",
       "4  867be96f95dfc4e24541d19c6a5ab8bf   \n",
       "\n",
       "                                              tweets    bot  \n",
       "0  ['alex', 'is', 'too', 'nice', 'for', 'love', '...  human  \n",
       "1  ['rt', '@', 'stvnews', ':', 'teenager', 'charg...  human  \n",
       "2              ['@', 'lipstaco', '@', 'jennyhastie']  human  \n",
       "3  ['@', 'ryandunbar8', 'happy', 'bday', 'ryan', ...  human  \n",
       "4  ['@', 'jennyhastie', '@', 'bootywhispers', 'i'...  human  "
      ]
     },
     "execution_count": 71,
     "metadata": {},
     "output_type": "execute_result"
    }
   ],
   "source": [
    "train_data_base.head()"
   ]
  },
  {
   "cell_type": "markdown",
   "metadata": {},
   "source": [
    "## Split train data into train and development set and add full corpus"
   ]
  },
  {
   "cell_type": "code",
   "execution_count": 72,
   "metadata": {},
   "outputs": [],
   "source": [
    "frames = [train_data_base, earlybird_data_base, test_data_base]\n",
    "corpus = pd.concat(frames)\n",
    "y_train_base = train_data['bot']\n",
    "X_train_base = train_data['tweets']\n",
    "y_early_bird_base = early_bird_data['bot']\n",
    "X_earlybird_base = early_bird_data['tweets']\n",
    "y_test_base = test_data['bot']\n",
    "X_test_base = test_data['tweets']\n",
    "X_train_base, X_dev_base, y_train_base, y_dev_base = train_test_split(X_train_base, y_train_base, test_size = 0.33, random_state = 37)"
   ]
  },
  {
   "cell_type": "markdown",
   "metadata": {},
   "source": [
    "## Fit baseline model"
   ]
  },
  {
   "cell_type": "code",
   "execution_count": 73,
   "metadata": {},
   "outputs": [],
   "source": [
    "#issue with shapes\n",
    "Tfidf_vect = TfidfVectorizer(max_features=5000)\n",
    "Tfidf_vect.fit(corpus['tweets'])\n",
    "tfidf_train_X = Tfidf_vect.transform(X_train_base)\n",
    "tfidf_dev_X = Tfidf_vect.transform(X_dev_base)"
   ]
  },
  {
   "cell_type": "code",
   "execution_count": 74,
   "metadata": {},
   "outputs": [],
   "source": [
    "tfidf_earlybirdX = Tfidf_vect.transform(X_earlybird_base)\n",
    "tfidf_testX = Tfidf_vect.transform(X_test_base)"
   ]
  },
  {
   "cell_type": "code",
   "execution_count": 75,
   "metadata": {},
   "outputs": [
    {
     "name": "stdout",
     "output_type": "stream",
     "text": [
      "(26400, 5000) (26400,) (264000, 5000) (264000,)\n"
     ]
    }
   ],
   "source": [
    "print(tfidf_earlybirdX.shape, y_early_bird_base.shape, tfidf_testX.shape, y_test_base.shape)"
   ]
  },
  {
   "cell_type": "code",
   "execution_count": 79,
   "metadata": {},
   "outputs": [
    {
     "name": "stdout",
     "output_type": "stream",
     "text": [
      "9700.395761966705\n"
     ]
    }
   ],
   "source": [
    "start = time.time()\n",
    "SVM = svm.SVC(C=1.0, kernel='linear', degree=3, gamma='auto')\n",
    "SVM.fit(tfidf_train_X, y_train_base)\n",
    "predictions_SVM = SVM.predict(tfidf_dev_X)\n",
    "accuracy_score(predictions_SVM, y_dev_base)*100\n",
    "stop = time.time()\n",
    "print(stop-start)"
   ]
  },
  {
   "cell_type": "code",
   "execution_count": 80,
   "metadata": {},
   "outputs": [
    {
     "data": {
      "text/plain": [
       "0.8588114151220947"
      ]
     },
     "execution_count": 80,
     "metadata": {},
     "output_type": "execute_result"
    }
   ],
   "source": [
    "accuracy_score(predictions_SVM, y_dev_base)"
   ]
  },
  {
   "cell_type": "code",
   "execution_count": 81,
   "metadata": {},
   "outputs": [
    {
     "name": "stdout",
     "output_type": "stream",
     "text": [
      "The accuracy on the earlybird set is 0.7776136363636363\n"
     ]
    }
   ],
   "source": [
    "predictions_svm_earlybird = SVM.predict(tfidf_earlybirdX)\n",
    "print(f'The accuracy on the earlybird set is {accuracy_score(predictions_svm_earlybird, y_early_bird_base)}')"
   ]
  },
  {
   "cell_type": "code",
   "execution_count": 82,
   "metadata": {},
   "outputs": [
    {
     "name": "stdout",
     "output_type": "stream",
     "text": [
      "The accuracy on the test set is 0.7546856060606061\n"
     ]
    }
   ],
   "source": [
    "predictions_svm_test = SVM.predict(tfidf_testX)\n",
    "print(f'The accuracy on the test set is {accuracy_score(predictions_svm_test, y_test_base)}')"
   ]
  }
 ],
 "metadata": {
  "kernelspec": {
   "display_name": "Python 3",
   "language": "python",
   "name": "python3"
  },
  "language_info": {
   "codemirror_mode": {
    "name": "ipython",
    "version": 3
   },
   "file_extension": ".py",
   "mimetype": "text/x-python",
   "name": "python",
   "nbconvert_exporter": "python",
   "pygments_lexer": "ipython3",
   "version": "3.7.4"
  }
 },
 "nbformat": 4,
 "nbformat_minor": 4
}
