{
  "nbformat": 4,
  "nbformat_minor": 0,
  "metadata": {
    "colab": {
      "name": "BERTnolinksandBERTnoatsorhashtags.ipynb",
      "provenance": [],
      "collapsed_sections": [],
      "machine_shape": "hm"
    },
    "kernelspec": {
      "name": "python3",
      "display_name": "Python 3"
    },
    "language_info": {
      "name": "python"
    },
    "accelerator": "GPU"
  },
  "cells": [
    {
      "cell_type": "markdown",
      "metadata": {
        "id": "U2NCFB154hgU"
      },
      "source": [
        "#BERT without links and BERT with no @s and no hashtags\n"
      ]
    },
    {
      "cell_type": "code",
      "metadata": {
        "id": "2vktGMdMyDUj",
        "colab": {
          "base_uri": "https://localhost:8080/"
        },
        "outputId": "32bd1a14-a8a8-46e8-d0e4-3017ab10f3cb"
      },
      "source": [
        "from google.colab import drive\n",
        "drive.mount('/content/gdrive')"
      ],
      "execution_count": null,
      "outputs": [
        {
          "output_type": "stream",
          "text": [
            "Drive already mounted at /content/gdrive; to attempt to forcibly remount, call drive.mount(\"/content/gdrive\", force_remount=True).\n"
          ],
          "name": "stdout"
        }
      ]
    },
    {
      "cell_type": "code",
      "metadata": {
        "id": "dMCEMS1VyLAU",
        "colab": {
          "base_uri": "https://localhost:8080/"
        },
        "outputId": "714d56f4-514e-465a-9bf7-77a36cce2764"
      },
      "source": [
        "! pip install sentencepiece\n",
        "! pip install transformers\n",
        "! pip install tensorflow-addons\n",
        "! pip install tf-models-official\n",
        "! pip install --upgrade tensorflow-hub"
      ],
      "execution_count": null,
      "outputs": [
        {
          "output_type": "stream",
          "text": [
            "Collecting sentencepiece\n",
            "\u001b[?25l  Downloading https://files.pythonhosted.org/packages/f5/99/e0808cb947ba10f575839c43e8fafc9cc44e4a7a2c8f79c60db48220a577/sentencepiece-0.1.95-cp37-cp37m-manylinux2014_x86_64.whl (1.2MB)\n",
            "\r\u001b[K     |▎                               | 10kB 18.6MB/s eta 0:00:01\r\u001b[K     |▌                               | 20kB 26.1MB/s eta 0:00:01\r\u001b[K     |▉                               | 30kB 27.0MB/s eta 0:00:01\r\u001b[K     |█                               | 40kB 19.8MB/s eta 0:00:01\r\u001b[K     |█▍                              | 51kB 14.5MB/s eta 0:00:01\r\u001b[K     |█▋                              | 61kB 14.0MB/s eta 0:00:01\r\u001b[K     |██                              | 71kB 15.4MB/s eta 0:00:01\r\u001b[K     |██▏                             | 81kB 15.5MB/s eta 0:00:01\r\u001b[K     |██▌                             | 92kB 14.2MB/s eta 0:00:01\r\u001b[K     |██▊                             | 102kB 12.7MB/s eta 0:00:01\r\u001b[K     |███                             | 112kB 12.7MB/s eta 0:00:01\r\u001b[K     |███▎                            | 122kB 12.7MB/s eta 0:00:01\r\u001b[K     |███▌                            | 133kB 12.7MB/s eta 0:00:01\r\u001b[K     |███▉                            | 143kB 12.7MB/s eta 0:00:01\r\u001b[K     |████                            | 153kB 12.7MB/s eta 0:00:01\r\u001b[K     |████▍                           | 163kB 12.7MB/s eta 0:00:01\r\u001b[K     |████▋                           | 174kB 12.7MB/s eta 0:00:01\r\u001b[K     |█████                           | 184kB 12.7MB/s eta 0:00:01\r\u001b[K     |█████▏                          | 194kB 12.7MB/s eta 0:00:01\r\u001b[K     |█████▌                          | 204kB 12.7MB/s eta 0:00:01\r\u001b[K     |█████▊                          | 215kB 12.7MB/s eta 0:00:01\r\u001b[K     |██████                          | 225kB 12.7MB/s eta 0:00:01\r\u001b[K     |██████▎                         | 235kB 12.7MB/s eta 0:00:01\r\u001b[K     |██████▌                         | 245kB 12.7MB/s eta 0:00:01\r\u001b[K     |██████▉                         | 256kB 12.7MB/s eta 0:00:01\r\u001b[K     |███████                         | 266kB 12.7MB/s eta 0:00:01\r\u001b[K     |███████▍                        | 276kB 12.7MB/s eta 0:00:01\r\u001b[K     |███████▋                        | 286kB 12.7MB/s eta 0:00:01\r\u001b[K     |████████                        | 296kB 12.7MB/s eta 0:00:01\r\u001b[K     |████████▏                       | 307kB 12.7MB/s eta 0:00:01\r\u001b[K     |████████▍                       | 317kB 12.7MB/s eta 0:00:01\r\u001b[K     |████████▊                       | 327kB 12.7MB/s eta 0:00:01\r\u001b[K     |█████████                       | 337kB 12.7MB/s eta 0:00:01\r\u001b[K     |█████████▎                      | 348kB 12.7MB/s eta 0:00:01\r\u001b[K     |█████████▌                      | 358kB 12.7MB/s eta 0:00:01\r\u001b[K     |█████████▉                      | 368kB 12.7MB/s eta 0:00:01\r\u001b[K     |██████████                      | 378kB 12.7MB/s eta 0:00:01\r\u001b[K     |██████████▍                     | 389kB 12.7MB/s eta 0:00:01\r\u001b[K     |██████████▋                     | 399kB 12.7MB/s eta 0:00:01\r\u001b[K     |███████████                     | 409kB 12.7MB/s eta 0:00:01\r\u001b[K     |███████████▏                    | 419kB 12.7MB/s eta 0:00:01\r\u001b[K     |███████████▍                    | 430kB 12.7MB/s eta 0:00:01\r\u001b[K     |███████████▊                    | 440kB 12.7MB/s eta 0:00:01\r\u001b[K     |████████████                    | 450kB 12.7MB/s eta 0:00:01\r\u001b[K     |████████████▎                   | 460kB 12.7MB/s eta 0:00:01\r\u001b[K     |████████████▌                   | 471kB 12.7MB/s eta 0:00:01\r\u001b[K     |████████████▉                   | 481kB 12.7MB/s eta 0:00:01\r\u001b[K     |█████████████                   | 491kB 12.7MB/s eta 0:00:01\r\u001b[K     |█████████████▍                  | 501kB 12.7MB/s eta 0:00:01\r\u001b[K     |█████████████▋                  | 512kB 12.7MB/s eta 0:00:01\r\u001b[K     |█████████████▉                  | 522kB 12.7MB/s eta 0:00:01\r\u001b[K     |██████████████▏                 | 532kB 12.7MB/s eta 0:00:01\r\u001b[K     |██████████████▍                 | 542kB 12.7MB/s eta 0:00:01\r\u001b[K     |██████████████▊                 | 552kB 12.7MB/s eta 0:00:01\r\u001b[K     |███████████████                 | 563kB 12.7MB/s eta 0:00:01\r\u001b[K     |███████████████▎                | 573kB 12.7MB/s eta 0:00:01\r\u001b[K     |███████████████▌                | 583kB 12.7MB/s eta 0:00:01\r\u001b[K     |███████████████▉                | 593kB 12.7MB/s eta 0:00:01\r\u001b[K     |████████████████                | 604kB 12.7MB/s eta 0:00:01\r\u001b[K     |████████████████▍               | 614kB 12.7MB/s eta 0:00:01\r\u001b[K     |████████████████▋               | 624kB 12.7MB/s eta 0:00:01\r\u001b[K     |████████████████▉               | 634kB 12.7MB/s eta 0:00:01\r\u001b[K     |█████████████████▏              | 645kB 12.7MB/s eta 0:00:01\r\u001b[K     |█████████████████▍              | 655kB 12.7MB/s eta 0:00:01\r\u001b[K     |█████████████████▊              | 665kB 12.7MB/s eta 0:00:01\r\u001b[K     |██████████████████              | 675kB 12.7MB/s eta 0:00:01\r\u001b[K     |██████████████████▎             | 686kB 12.7MB/s eta 0:00:01\r\u001b[K     |██████████████████▌             | 696kB 12.7MB/s eta 0:00:01\r\u001b[K     |██████████████████▉             | 706kB 12.7MB/s eta 0:00:01\r\u001b[K     |███████████████████             | 716kB 12.7MB/s eta 0:00:01\r\u001b[K     |███████████████████▎            | 727kB 12.7MB/s eta 0:00:01\r\u001b[K     |███████████████████▋            | 737kB 12.7MB/s eta 0:00:01\r\u001b[K     |███████████████████▉            | 747kB 12.7MB/s eta 0:00:01\r\u001b[K     |████████████████████▏           | 757kB 12.7MB/s eta 0:00:01\r\u001b[K     |████████████████████▍           | 768kB 12.7MB/s eta 0:00:01\r\u001b[K     |████████████████████▊           | 778kB 12.7MB/s eta 0:00:01\r\u001b[K     |█████████████████████           | 788kB 12.7MB/s eta 0:00:01\r\u001b[K     |█████████████████████▎          | 798kB 12.7MB/s eta 0:00:01\r\u001b[K     |█████████████████████▌          | 808kB 12.7MB/s eta 0:00:01\r\u001b[K     |█████████████████████▉          | 819kB 12.7MB/s eta 0:00:01\r\u001b[K     |██████████████████████          | 829kB 12.7MB/s eta 0:00:01\r\u001b[K     |██████████████████████▎         | 839kB 12.7MB/s eta 0:00:01\r\u001b[K     |██████████████████████▋         | 849kB 12.7MB/s eta 0:00:01\r\u001b[K     |██████████████████████▉         | 860kB 12.7MB/s eta 0:00:01\r\u001b[K     |███████████████████████▏        | 870kB 12.7MB/s eta 0:00:01\r\u001b[K     |███████████████████████▍        | 880kB 12.7MB/s eta 0:00:01\r\u001b[K     |███████████████████████▊        | 890kB 12.7MB/s eta 0:00:01\r\u001b[K     |████████████████████████        | 901kB 12.7MB/s eta 0:00:01\r\u001b[K     |████████████████████████▎       | 911kB 12.7MB/s eta 0:00:01\r\u001b[K     |████████████████████████▌       | 921kB 12.7MB/s eta 0:00:01\r\u001b[K     |████████████████████████▊       | 931kB 12.7MB/s eta 0:00:01\r\u001b[K     |█████████████████████████       | 942kB 12.7MB/s eta 0:00:01\r\u001b[K     |█████████████████████████▎      | 952kB 12.7MB/s eta 0:00:01\r\u001b[K     |█████████████████████████▋      | 962kB 12.7MB/s eta 0:00:01\r\u001b[K     |█████████████████████████▉      | 972kB 12.7MB/s eta 0:00:01\r\u001b[K     |██████████████████████████▏     | 983kB 12.7MB/s eta 0:00:01\r\u001b[K     |██████████████████████████▍     | 993kB 12.7MB/s eta 0:00:01\r\u001b[K     |██████████████████████████▊     | 1.0MB 12.7MB/s eta 0:00:01\r\u001b[K     |███████████████████████████     | 1.0MB 12.7MB/s eta 0:00:01\r\u001b[K     |███████████████████████████▎    | 1.0MB 12.7MB/s eta 0:00:01\r\u001b[K     |███████████████████████████▌    | 1.0MB 12.7MB/s eta 0:00:01\r\u001b[K     |███████████████████████████▊    | 1.0MB 12.7MB/s eta 0:00:01\r\u001b[K     |████████████████████████████    | 1.1MB 12.7MB/s eta 0:00:01\r\u001b[K     |████████████████████████████▎   | 1.1MB 12.7MB/s eta 0:00:01\r\u001b[K     |████████████████████████████▋   | 1.1MB 12.7MB/s eta 0:00:01\r\u001b[K     |████████████████████████████▉   | 1.1MB 12.7MB/s eta 0:00:01\r\u001b[K     |█████████████████████████████▏  | 1.1MB 12.7MB/s eta 0:00:01\r\u001b[K     |█████████████████████████████▍  | 1.1MB 12.7MB/s eta 0:00:01\r\u001b[K     |█████████████████████████████▊  | 1.1MB 12.7MB/s eta 0:00:01\r\u001b[K     |██████████████████████████████  | 1.1MB 12.7MB/s eta 0:00:01\r\u001b[K     |██████████████████████████████▏ | 1.1MB 12.7MB/s eta 0:00:01\r\u001b[K     |██████████████████████████████▌ | 1.1MB 12.7MB/s eta 0:00:01\r\u001b[K     |██████████████████████████████▊ | 1.2MB 12.7MB/s eta 0:00:01\r\u001b[K     |███████████████████████████████ | 1.2MB 12.7MB/s eta 0:00:01\r\u001b[K     |███████████████████████████████▎| 1.2MB 12.7MB/s eta 0:00:01\r\u001b[K     |███████████████████████████████▋| 1.2MB 12.7MB/s eta 0:00:01\r\u001b[K     |███████████████████████████████▉| 1.2MB 12.7MB/s eta 0:00:01\r\u001b[K     |████████████████████████████████| 1.2MB 12.7MB/s \n",
            "\u001b[?25hInstalling collected packages: sentencepiece\n",
            "Successfully installed sentencepiece-0.1.95\n",
            "Collecting transformers\n",
            "\u001b[?25l  Downloading https://files.pythonhosted.org/packages/ed/d5/f4157a376b8a79489a76ce6cfe147f4f3be1e029b7144fa7b8432e8acb26/transformers-4.4.2-py3-none-any.whl (2.0MB)\n",
            "\u001b[K     |████████████████████████████████| 2.0MB 15.2MB/s \n",
            "\u001b[?25hRequirement already satisfied: numpy>=1.17 in /usr/local/lib/python3.7/dist-packages (from transformers) (1.19.5)\n",
            "Requirement already satisfied: packaging in /usr/local/lib/python3.7/dist-packages (from transformers) (20.9)\n",
            "Requirement already satisfied: importlib-metadata; python_version < \"3.8\" in /usr/local/lib/python3.7/dist-packages (from transformers) (3.8.1)\n",
            "Collecting tokenizers<0.11,>=0.10.1\n",
            "\u001b[?25l  Downloading https://files.pythonhosted.org/packages/71/23/2ddc317b2121117bf34dd00f5b0de194158f2a44ee2bf5e47c7166878a97/tokenizers-0.10.1-cp37-cp37m-manylinux2010_x86_64.whl (3.2MB)\n",
            "\u001b[K     |████████████████████████████████| 3.2MB 63.6MB/s \n",
            "\u001b[?25hRequirement already satisfied: filelock in /usr/local/lib/python3.7/dist-packages (from transformers) (3.0.12)\n",
            "Requirement already satisfied: requests in /usr/local/lib/python3.7/dist-packages (from transformers) (2.23.0)\n",
            "Requirement already satisfied: tqdm>=4.27 in /usr/local/lib/python3.7/dist-packages (from transformers) (4.41.1)\n",
            "Requirement already satisfied: regex!=2019.12.17 in /usr/local/lib/python3.7/dist-packages (from transformers) (2019.12.20)\n",
            "Collecting sacremoses\n",
            "\u001b[?25l  Downloading https://files.pythonhosted.org/packages/08/cd/342e584ee544d044fb573ae697404ce22ede086c9e87ce5960772084cad0/sacremoses-0.0.44.tar.gz (862kB)\n",
            "\u001b[K     |████████████████████████████████| 870kB 67.9MB/s \n",
            "\u001b[?25hRequirement already satisfied: pyparsing>=2.0.2 in /usr/local/lib/python3.7/dist-packages (from packaging->transformers) (2.4.7)\n",
            "Requirement already satisfied: zipp>=0.5 in /usr/local/lib/python3.7/dist-packages (from importlib-metadata; python_version < \"3.8\"->transformers) (3.4.1)\n",
            "Requirement already satisfied: typing-extensions>=3.6.4; python_version < \"3.8\" in /usr/local/lib/python3.7/dist-packages (from importlib-metadata; python_version < \"3.8\"->transformers) (3.7.4.3)\n",
            "Requirement already satisfied: urllib3!=1.25.0,!=1.25.1,<1.26,>=1.21.1 in /usr/local/lib/python3.7/dist-packages (from requests->transformers) (1.24.3)\n",
            "Requirement already satisfied: chardet<4,>=3.0.2 in /usr/local/lib/python3.7/dist-packages (from requests->transformers) (3.0.4)\n",
            "Requirement already satisfied: certifi>=2017.4.17 in /usr/local/lib/python3.7/dist-packages (from requests->transformers) (2020.12.5)\n",
            "Requirement already satisfied: idna<3,>=2.5 in /usr/local/lib/python3.7/dist-packages (from requests->transformers) (2.10)\n",
            "Requirement already satisfied: six in /usr/local/lib/python3.7/dist-packages (from sacremoses->transformers) (1.15.0)\n",
            "Requirement already satisfied: click in /usr/local/lib/python3.7/dist-packages (from sacremoses->transformers) (7.1.2)\n",
            "Requirement already satisfied: joblib in /usr/local/lib/python3.7/dist-packages (from sacremoses->transformers) (1.0.1)\n",
            "Building wheels for collected packages: sacremoses\n",
            "  Building wheel for sacremoses (setup.py) ... \u001b[?25l\u001b[?25hdone\n",
            "  Created wheel for sacremoses: filename=sacremoses-0.0.44-cp37-none-any.whl size=886084 sha256=658c3969b9d5408646afd26a3bd9755682cd4cc14b06336f73709bc07cf66228\n",
            "  Stored in directory: /root/.cache/pip/wheels/3e/fb/c0/13ab4d63d537658f448366744654323077c4d90069b6512f3c\n",
            "Successfully built sacremoses\n",
            "Installing collected packages: tokenizers, sacremoses, transformers\n",
            "Successfully installed sacremoses-0.0.44 tokenizers-0.10.1 transformers-4.4.2\n",
            "Collecting tensorflow-addons\n",
            "\u001b[?25l  Downloading https://files.pythonhosted.org/packages/74/e3/56d2fe76f0bb7c88ed9b2a6a557e25e83e252aec08f13de34369cd850a0b/tensorflow_addons-0.12.1-cp37-cp37m-manylinux2010_x86_64.whl (703kB)\n",
            "\u001b[K     |████████████████████████████████| 706kB 16.2MB/s \n",
            "\u001b[?25hRequirement already satisfied: typeguard>=2.7 in /usr/local/lib/python3.7/dist-packages (from tensorflow-addons) (2.7.1)\n",
            "Installing collected packages: tensorflow-addons\n",
            "Successfully installed tensorflow-addons-0.12.1\n",
            "Collecting tf-models-official\n",
            "\u001b[?25l  Downloading https://files.pythonhosted.org/packages/57/4a/23a08f8fd2747867ee223612e219eeb0d11c36116601d99b55ef3c72e707/tf_models_official-2.4.0-py2.py3-none-any.whl (1.1MB)\n",
            "\u001b[K     |████████████████████████████████| 1.1MB 13.4MB/s \n",
            "\u001b[?25hRequirement already satisfied: sentencepiece in /usr/local/lib/python3.7/dist-packages (from tf-models-official) (0.1.95)\n",
            "Requirement already satisfied: Cython in /usr/local/lib/python3.7/dist-packages (from tf-models-official) (0.29.22)\n",
            "Requirement already satisfied: google-api-python-client>=1.6.7 in /usr/local/lib/python3.7/dist-packages (from tf-models-official) (1.12.8)\n",
            "Collecting seqeval\n",
            "\u001b[?25l  Downloading https://files.pythonhosted.org/packages/9d/2d/233c79d5b4e5ab1dbf111242299153f3caddddbb691219f363ad55ce783d/seqeval-1.2.2.tar.gz (43kB)\n",
            "\u001b[K     |████████████████████████████████| 51kB 7.9MB/s \n",
            "\u001b[?25hRequirement already satisfied: pandas>=0.22.0 in /usr/local/lib/python3.7/dist-packages (from tf-models-official) (1.1.5)\n",
            "Requirement already satisfied: tensorflow-datasets in /usr/local/lib/python3.7/dist-packages (from tf-models-official) (4.0.1)\n",
            "Collecting tensorflow-model-optimization>=0.4.1\n",
            "\u001b[?25l  Downloading https://files.pythonhosted.org/packages/55/38/4fd48ea1bfcb0b6e36d949025200426fe9c3a8bfae029f0973d85518fa5a/tensorflow_model_optimization-0.5.0-py2.py3-none-any.whl (172kB)\n",
            "\u001b[K     |████████████████████████████████| 174kB 51.7MB/s \n",
            "\u001b[?25hRequirement already satisfied: numpy>=1.15.4 in /usr/local/lib/python3.7/dist-packages (from tf-models-official) (1.19.5)\n",
            "Collecting pyyaml>=5.1\n",
            "\u001b[?25l  Downloading https://files.pythonhosted.org/packages/7a/a5/393c087efdc78091afa2af9f1378762f9821c9c1d7a22c5753fb5ac5f97a/PyYAML-5.4.1-cp37-cp37m-manylinux1_x86_64.whl (636kB)\n",
            "\u001b[K     |████████████████████████████████| 645kB 18.6MB/s \n",
            "\u001b[?25hRequirement already satisfied: matplotlib in /usr/local/lib/python3.7/dist-packages (from tf-models-official) (3.2.2)\n",
            "Requirement already satisfied: tensorflow>=2.4.0 in /usr/local/lib/python3.7/dist-packages (from tf-models-official) (2.4.1)\n",
            "Collecting opencv-python-headless\n",
            "\u001b[?25l  Downloading https://files.pythonhosted.org/packages/6d/6d/92f377bece9b0ec9c893081dbe073a65b38d7ac12ef572b8f70554d08760/opencv_python_headless-4.5.1.48-cp37-cp37m-manylinux2014_x86_64.whl (37.6MB)\n",
            "\u001b[K     |████████████████████████████████| 37.6MB 133kB/s \n",
            "\u001b[?25hCollecting dataclasses\n",
            "  Downloading https://files.pythonhosted.org/packages/26/2f/1095cdc2868052dd1e64520f7c0d5c8c550ad297e944e641dbf1ffbb9a5d/dataclasses-0.6-py3-none-any.whl\n",
            "Requirement already satisfied: six in /usr/local/lib/python3.7/dist-packages (from tf-models-official) (1.15.0)\n",
            "Requirement already satisfied: oauth2client in /usr/local/lib/python3.7/dist-packages (from tf-models-official) (4.1.3)\n",
            "Requirement already satisfied: gin-config in /usr/local/lib/python3.7/dist-packages (from tf-models-official) (0.4.0)\n",
            "Requirement already satisfied: scipy>=0.19.1 in /usr/local/lib/python3.7/dist-packages (from tf-models-official) (1.4.1)\n",
            "Collecting py-cpuinfo>=3.3.0\n",
            "\u001b[?25l  Downloading https://files.pythonhosted.org/packages/f6/f5/8e6e85ce2e9f6e05040cf0d4e26f43a4718bcc4bce988b433276d4b1a5c1/py-cpuinfo-7.0.0.tar.gz (95kB)\n",
            "\u001b[K     |████████████████████████████████| 102kB 11.3MB/s \n",
            "\u001b[?25hRequirement already satisfied: google-cloud-bigquery>=0.31.0 in /usr/local/lib/python3.7/dist-packages (from tf-models-official) (1.21.0)\n",
            "Requirement already satisfied: tensorflow-hub>=0.6.0 in /usr/local/lib/python3.7/dist-packages (from tf-models-official) (0.11.0)\n",
            "Requirement already satisfied: kaggle>=1.3.9 in /usr/local/lib/python3.7/dist-packages (from tf-models-official) (1.5.12)\n",
            "Requirement already satisfied: Pillow in /usr/local/lib/python3.7/dist-packages (from tf-models-official) (7.1.2)\n",
            "Requirement already satisfied: pycocotools in /usr/local/lib/python3.7/dist-packages (from tf-models-official) (2.0.2)\n",
            "Collecting tf-slim>=1.1.0\n",
            "\u001b[?25l  Downloading https://files.pythonhosted.org/packages/02/97/b0f4a64df018ca018cc035d44f2ef08f91e2e8aa67271f6f19633a015ff7/tf_slim-1.1.0-py2.py3-none-any.whl (352kB)\n",
            "\u001b[K     |████████████████████████████████| 358kB 52.3MB/s \n",
            "\u001b[?25hRequirement already satisfied: tensorflow-addons in /usr/local/lib/python3.7/dist-packages (from tf-models-official) (0.12.1)\n",
            "Requirement already satisfied: psutil>=5.4.3 in /usr/local/lib/python3.7/dist-packages (from tf-models-official) (5.4.8)\n",
            "Requirement already satisfied: google-auth-httplib2>=0.0.3 in /usr/local/lib/python3.7/dist-packages (from google-api-python-client>=1.6.7->tf-models-official) (0.0.4)\n",
            "Requirement already satisfied: google-api-core<2dev,>=1.21.0 in /usr/local/lib/python3.7/dist-packages (from google-api-python-client>=1.6.7->tf-models-official) (1.26.2)\n",
            "Requirement already satisfied: google-auth>=1.16.0 in /usr/local/lib/python3.7/dist-packages (from google-api-python-client>=1.6.7->tf-models-official) (1.28.0)\n",
            "Requirement already satisfied: httplib2<1dev,>=0.15.0 in /usr/local/lib/python3.7/dist-packages (from google-api-python-client>=1.6.7->tf-models-official) (0.17.4)\n",
            "Requirement already satisfied: uritemplate<4dev,>=3.0.0 in /usr/local/lib/python3.7/dist-packages (from google-api-python-client>=1.6.7->tf-models-official) (3.0.1)\n",
            "Requirement already satisfied: scikit-learn>=0.21.3 in /usr/local/lib/python3.7/dist-packages (from seqeval->tf-models-official) (0.22.2.post1)\n",
            "Requirement already satisfied: pytz>=2017.2 in /usr/local/lib/python3.7/dist-packages (from pandas>=0.22.0->tf-models-official) (2018.9)\n",
            "Requirement already satisfied: python-dateutil>=2.7.3 in /usr/local/lib/python3.7/dist-packages (from pandas>=0.22.0->tf-models-official) (2.8.1)\n",
            "Requirement already satisfied: requests>=2.19.0 in /usr/local/lib/python3.7/dist-packages (from tensorflow-datasets->tf-models-official) (2.23.0)\n",
            "Requirement already satisfied: future in /usr/local/lib/python3.7/dist-packages (from tensorflow-datasets->tf-models-official) (0.16.0)\n",
            "Requirement already satisfied: protobuf>=3.6.1 in /usr/local/lib/python3.7/dist-packages (from tensorflow-datasets->tf-models-official) (3.12.4)\n",
            "Requirement already satisfied: tqdm in /usr/local/lib/python3.7/dist-packages (from tensorflow-datasets->tf-models-official) (4.41.1)\n",
            "Requirement already satisfied: attrs>=18.1.0 in /usr/local/lib/python3.7/dist-packages (from tensorflow-datasets->tf-models-official) (20.3.0)\n",
            "Requirement already satisfied: tensorflow-metadata in /usr/local/lib/python3.7/dist-packages (from tensorflow-datasets->tf-models-official) (0.29.0)\n",
            "Requirement already satisfied: dill in /usr/local/lib/python3.7/dist-packages (from tensorflow-datasets->tf-models-official) (0.3.3)\n",
            "Requirement already satisfied: importlib-resources; python_version < \"3.9\" in /usr/local/lib/python3.7/dist-packages (from tensorflow-datasets->tf-models-official) (5.1.2)\n",
            "Requirement already satisfied: promise in /usr/local/lib/python3.7/dist-packages (from tensorflow-datasets->tf-models-official) (2.3)\n",
            "Requirement already satisfied: termcolor in /usr/local/lib/python3.7/dist-packages (from tensorflow-datasets->tf-models-official) (1.1.0)\n",
            "Requirement already satisfied: absl-py in /usr/local/lib/python3.7/dist-packages (from tensorflow-datasets->tf-models-official) (0.12.0)\n",
            "Requirement already satisfied: dm-tree in /usr/local/lib/python3.7/dist-packages (from tensorflow-datasets->tf-models-official) (0.1.5)\n",
            "Requirement already satisfied: cycler>=0.10 in /usr/local/lib/python3.7/dist-packages (from matplotlib->tf-models-official) (0.10.0)\n",
            "Requirement already satisfied: pyparsing!=2.0.4,!=2.1.2,!=2.1.6,>=2.0.1 in /usr/local/lib/python3.7/dist-packages (from matplotlib->tf-models-official) (2.4.7)\n",
            "Requirement already satisfied: kiwisolver>=1.0.1 in /usr/local/lib/python3.7/dist-packages (from matplotlib->tf-models-official) (1.3.1)\n",
            "Requirement already satisfied: google-pasta~=0.2 in /usr/local/lib/python3.7/dist-packages (from tensorflow>=2.4.0->tf-models-official) (0.2.0)\n",
            "Requirement already satisfied: h5py~=2.10.0 in /usr/local/lib/python3.7/dist-packages (from tensorflow>=2.4.0->tf-models-official) (2.10.0)\n",
            "Requirement already satisfied: typing-extensions~=3.7.4 in /usr/local/lib/python3.7/dist-packages (from tensorflow>=2.4.0->tf-models-official) (3.7.4.3)\n",
            "Requirement already satisfied: flatbuffers~=1.12.0 in /usr/local/lib/python3.7/dist-packages (from tensorflow>=2.4.0->tf-models-official) (1.12)\n",
            "Requirement already satisfied: grpcio~=1.32.0 in /usr/local/lib/python3.7/dist-packages (from tensorflow>=2.4.0->tf-models-official) (1.32.0)\n",
            "Requirement already satisfied: tensorboard~=2.4 in /usr/local/lib/python3.7/dist-packages (from tensorflow>=2.4.0->tf-models-official) (2.4.1)\n",
            "Requirement already satisfied: keras-preprocessing~=1.1.2 in /usr/local/lib/python3.7/dist-packages (from tensorflow>=2.4.0->tf-models-official) (1.1.2)\n",
            "Requirement already satisfied: gast==0.3.3 in /usr/local/lib/python3.7/dist-packages (from tensorflow>=2.4.0->tf-models-official) (0.3.3)\n",
            "Requirement already satisfied: wheel~=0.35 in /usr/local/lib/python3.7/dist-packages (from tensorflow>=2.4.0->tf-models-official) (0.36.2)\n",
            "Requirement already satisfied: tensorflow-estimator<2.5.0,>=2.4.0 in /usr/local/lib/python3.7/dist-packages (from tensorflow>=2.4.0->tf-models-official) (2.4.0)\n",
            "Requirement already satisfied: wrapt~=1.12.1 in /usr/local/lib/python3.7/dist-packages (from tensorflow>=2.4.0->tf-models-official) (1.12.1)\n",
            "Requirement already satisfied: astunparse~=1.6.3 in /usr/local/lib/python3.7/dist-packages (from tensorflow>=2.4.0->tf-models-official) (1.6.3)\n",
            "Requirement already satisfied: opt-einsum~=3.3.0 in /usr/local/lib/python3.7/dist-packages (from tensorflow>=2.4.0->tf-models-official) (3.3.0)\n",
            "Requirement already satisfied: rsa>=3.1.4 in /usr/local/lib/python3.7/dist-packages (from oauth2client->tf-models-official) (4.7.2)\n",
            "Requirement already satisfied: pyasn1-modules>=0.0.5 in /usr/local/lib/python3.7/dist-packages (from oauth2client->tf-models-official) (0.2.8)\n",
            "Requirement already satisfied: pyasn1>=0.1.7 in /usr/local/lib/python3.7/dist-packages (from oauth2client->tf-models-official) (0.4.8)\n",
            "Requirement already satisfied: google-resumable-media!=0.4.0,<0.5.0dev,>=0.3.1 in /usr/local/lib/python3.7/dist-packages (from google-cloud-bigquery>=0.31.0->tf-models-official) (0.4.1)\n",
            "Requirement already satisfied: google-cloud-core<2.0dev,>=1.0.3 in /usr/local/lib/python3.7/dist-packages (from google-cloud-bigquery>=0.31.0->tf-models-official) (1.0.3)\n",
            "Requirement already satisfied: urllib3 in /usr/local/lib/python3.7/dist-packages (from kaggle>=1.3.9->tf-models-official) (1.24.3)\n",
            "Requirement already satisfied: certifi in /usr/local/lib/python3.7/dist-packages (from kaggle>=1.3.9->tf-models-official) (2020.12.5)\n",
            "Requirement already satisfied: python-slugify in /usr/local/lib/python3.7/dist-packages (from kaggle>=1.3.9->tf-models-official) (4.0.1)\n",
            "Requirement already satisfied: setuptools>=18.0 in /usr/local/lib/python3.7/dist-packages (from pycocotools->tf-models-official) (54.2.0)\n",
            "Requirement already satisfied: typeguard>=2.7 in /usr/local/lib/python3.7/dist-packages (from tensorflow-addons->tf-models-official) (2.7.1)\n",
            "Requirement already satisfied: googleapis-common-protos<2.0dev,>=1.6.0 in /usr/local/lib/python3.7/dist-packages (from google-api-core<2dev,>=1.21.0->google-api-python-client>=1.6.7->tf-models-official) (1.53.0)\n",
            "Requirement already satisfied: packaging>=14.3 in /usr/local/lib/python3.7/dist-packages (from google-api-core<2dev,>=1.21.0->google-api-python-client>=1.6.7->tf-models-official) (20.9)\n",
            "Requirement already satisfied: cachetools<5.0,>=2.0.0 in /usr/local/lib/python3.7/dist-packages (from google-auth>=1.16.0->google-api-python-client>=1.6.7->tf-models-official) (4.2.1)\n",
            "Requirement already satisfied: joblib>=0.11 in /usr/local/lib/python3.7/dist-packages (from scikit-learn>=0.21.3->seqeval->tf-models-official) (1.0.1)\n",
            "Requirement already satisfied: idna<3,>=2.5 in /usr/local/lib/python3.7/dist-packages (from requests>=2.19.0->tensorflow-datasets->tf-models-official) (2.10)\n",
            "Requirement already satisfied: chardet<4,>=3.0.2 in /usr/local/lib/python3.7/dist-packages (from requests>=2.19.0->tensorflow-datasets->tf-models-official) (3.0.4)\n",
            "Requirement already satisfied: zipp>=0.4; python_version < \"3.8\" in /usr/local/lib/python3.7/dist-packages (from importlib-resources; python_version < \"3.9\"->tensorflow-datasets->tf-models-official) (3.4.1)\n",
            "Requirement already satisfied: markdown>=2.6.8 in /usr/local/lib/python3.7/dist-packages (from tensorboard~=2.4->tensorflow>=2.4.0->tf-models-official) (3.3.4)\n",
            "Requirement already satisfied: google-auth-oauthlib<0.5,>=0.4.1 in /usr/local/lib/python3.7/dist-packages (from tensorboard~=2.4->tensorflow>=2.4.0->tf-models-official) (0.4.3)\n",
            "Requirement already satisfied: tensorboard-plugin-wit>=1.6.0 in /usr/local/lib/python3.7/dist-packages (from tensorboard~=2.4->tensorflow>=2.4.0->tf-models-official) (1.8.0)\n",
            "Requirement already satisfied: werkzeug>=0.11.15 in /usr/local/lib/python3.7/dist-packages (from tensorboard~=2.4->tensorflow>=2.4.0->tf-models-official) (1.0.1)\n",
            "Requirement already satisfied: text-unidecode>=1.3 in /usr/local/lib/python3.7/dist-packages (from python-slugify->kaggle>=1.3.9->tf-models-official) (1.3)\n",
            "Requirement already satisfied: importlib-metadata; python_version < \"3.8\" in /usr/local/lib/python3.7/dist-packages (from markdown>=2.6.8->tensorboard~=2.4->tensorflow>=2.4.0->tf-models-official) (3.8.1)\n",
            "Requirement already satisfied: requests-oauthlib>=0.7.0 in /usr/local/lib/python3.7/dist-packages (from google-auth-oauthlib<0.5,>=0.4.1->tensorboard~=2.4->tensorflow>=2.4.0->tf-models-official) (1.3.0)\n",
            "Requirement already satisfied: oauthlib>=3.0.0 in /usr/local/lib/python3.7/dist-packages (from requests-oauthlib>=0.7.0->google-auth-oauthlib<0.5,>=0.4.1->tensorboard~=2.4->tensorflow>=2.4.0->tf-models-official) (3.1.0)\n",
            "Building wheels for collected packages: seqeval, py-cpuinfo\n",
            "  Building wheel for seqeval (setup.py) ... \u001b[?25l\u001b[?25hdone\n",
            "  Created wheel for seqeval: filename=seqeval-1.2.2-cp37-none-any.whl size=16172 sha256=1695ccc14ccb40e5e00969549e8218c5f0ff05811254ba4ddc4ffc87b28fb24c\n",
            "  Stored in directory: /root/.cache/pip/wheels/52/df/1b/45d75646c37428f7e626214704a0e35bd3cfc32eda37e59e5f\n",
            "  Building wheel for py-cpuinfo (setup.py) ... \u001b[?25l\u001b[?25hdone\n",
            "  Created wheel for py-cpuinfo: filename=py_cpuinfo-7.0.0-cp37-none-any.whl size=20070 sha256=eea3a06818911dc046d0a4e766daf8763db99384f53e2a23d46b63f3a0a656cb\n",
            "  Stored in directory: /root/.cache/pip/wheels/f1/93/7b/127daf0c3a5a49feb2fecd468d508067c733fba5192f726ad1\n",
            "Successfully built seqeval py-cpuinfo\n",
            "Installing collected packages: seqeval, tensorflow-model-optimization, pyyaml, opencv-python-headless, dataclasses, py-cpuinfo, tf-slim, tf-models-official\n",
            "  Found existing installation: PyYAML 3.13\n",
            "    Uninstalling PyYAML-3.13:\n",
            "      Successfully uninstalled PyYAML-3.13\n",
            "Successfully installed dataclasses-0.6 opencv-python-headless-4.5.1.48 py-cpuinfo-7.0.0 pyyaml-5.4.1 seqeval-1.2.2 tensorflow-model-optimization-0.5.0 tf-models-official-2.4.0 tf-slim-1.1.0\n",
            "Requirement already up-to-date: tensorflow-hub in /usr/local/lib/python3.7/dist-packages (0.11.0)\n",
            "Requirement already satisfied, skipping upgrade: protobuf>=3.8.0 in /usr/local/lib/python3.7/dist-packages (from tensorflow-hub) (3.12.4)\n",
            "Requirement already satisfied, skipping upgrade: numpy>=1.12.0 in /usr/local/lib/python3.7/dist-packages (from tensorflow-hub) (1.19.5)\n",
            "Requirement already satisfied, skipping upgrade: six>=1.9 in /usr/local/lib/python3.7/dist-packages (from protobuf>=3.8.0->tensorflow-hub) (1.15.0)\n",
            "Requirement already satisfied, skipping upgrade: setuptools in /usr/local/lib/python3.7/dist-packages (from protobuf>=3.8.0->tensorflow-hub) (54.2.0)\n"
          ],
          "name": "stdout"
        }
      ]
    },
    {
      "cell_type": "code",
      "metadata": {
        "id": "gKQnf7cGyM6V"
      },
      "source": [
        "#Utility Functions\n",
        "import json\n",
        "import pandas as pd\n",
        "import numpy as np\n",
        "import os\n",
        "import sys\n",
        "import tensorflow as tf\n",
        "from time import time\n",
        "import io\n",
        "import re\n",
        "import matplotlib.pyplot as plt\n",
        "\n",
        "import pickle\n",
        "from csv import reader\n",
        "import matplotlib.pyplot as plt\n",
        "\n",
        "import matplotlib.pyplot as plt\n",
        "from matplotlib import colors\n",
        "from matplotlib.ticker import PercentFormatter\n",
        "\n",
        "#Tensorflow Libraries\n",
        "from tensorflow.keras import layers\n",
        "from tensorflow.keras.backend import sparse_categorical_crossentropy\n",
        "from tensorflow.keras.layers import Dense, Flatten\n",
        "import tensorflow_hub as hub\n",
        "from tensorflow.keras import utils\n",
        "\n",
        "#from datetime import datetime\n",
        "\n",
        "from collections import defaultdict\n",
        "\n",
        "import sentencepiece\n",
        "\n",
        "#Sk-learn functions\n",
        "from sklearn.model_selection import train_test_split\n",
        "\n",
        "from transformers import BertTokenizer, TFBertModel, T5Tokenizer, TFT5ForConditionalGeneration\n",
        "from transformers import TFBertForSequenceClassification\n",
        "import official.nlp.bert.bert_models\n",
        "import official.nlp.bert.configs\n",
        "import official.nlp.bert.run_classifier\n",
        "import official.nlp.bert.tokenization as tokenization\n",
        "from official.modeling import tf_utils\n",
        "from official import nlp\n",
        "from official.nlp import bert"
      ],
      "execution_count": null,
      "outputs": []
    },
    {
      "cell_type": "code",
      "metadata": {
        "id": "oOh5bqzFyNRl"
      },
      "source": [
        "tf.get_logger().setLevel(\"ERROR\")"
      ],
      "execution_count": null,
      "outputs": []
    },
    {
      "cell_type": "markdown",
      "metadata": {
        "id": "g89ogd0bybDo"
      },
      "source": [
        "###Load Data"
      ]
    },
    {
      "cell_type": "code",
      "metadata": {
        "id": "Sur01B-qyTeL"
      },
      "source": [
        "X_train_base = pd.read_csv('/content/gdrive/MyDrive/w266_bot_id_final_project/bot_id_pan/all_data/X_train.csv')\n",
        "X_dev_base = pd.read_csv('/content/gdrive/MyDrive/w266_bot_id_final_project/bot_id_pan/all_data/X_dev.csv')\n",
        "X_test_base = pd.read_csv('/content/gdrive/MyDrive/w266_bot_id_final_project/bot_id_pan/all_data/X_test.csv')\n",
        "X_earlybird_base = pd.read_csv('/content/gdrive/MyDrive/w266_bot_id_final_project/bot_id_pan/all_data/X_earlybird.csv')\n",
        "y_train_base = pd.read_csv('/content/gdrive/MyDrive/w266_bot_id_final_project/bot_id_pan/all_data/y_train.csv')\n",
        "y_dev_base = pd.read_csv('/content/gdrive/MyDrive/w266_bot_id_final_project/bot_id_pan/all_data/y_dev.csv')\n",
        "y_test_base = pd.read_csv('/content/gdrive/MyDrive/w266_bot_id_final_project/bot_id_pan/all_data/y_test.csv')\n",
        "y_early_bird_base = pd.read_csv('/content/gdrive/MyDrive/w266_bot_id_final_project/bot_id_pan/all_data/y_earlybird.csv')"
      ],
      "execution_count": null,
      "outputs": []
    },
    {
      "cell_type": "markdown",
      "metadata": {
        "id": "-xG8ePXkyfJn"
      },
      "source": [
        "###Remove unneccessary columns and convert pandas dataframe to numpy array"
      ]
    },
    {
      "cell_type": "code",
      "metadata": {
        "id": "NKfQ0fu_yTtQ"
      },
      "source": [
        "X_train_base = X_train_base['tweets']\n",
        "X_dev_base = X_dev_base['tweets']\n",
        "X_earlybird_base = X_earlybird_base['tweets']\n",
        "X_test_base = X_test_base['tweets']\n",
        "y_train_base = y_train_base['bot']\n",
        "y_dev_base = y_dev_base['bot']\n",
        "y_test_base = y_test_base['bot']\n",
        "y_early_bird_base = y_early_bird_base['bot']\n",
        "X_train_base, X_dev_base, y_train_base, y_dev_base = np.array(X_train_base),np.array(X_dev_base),np.array(y_train_base), np.array(y_dev_base)\n",
        "X_test_base, y_test_base = np.array(X_test_base), np.array(y_test_base)"
      ],
      "execution_count": null,
      "outputs": []
    },
    {
      "cell_type": "markdown",
      "metadata": {
        "id": "zAsGgcTjyo7A"
      },
      "source": [
        "### Convert outcome variable to categorical"
      ]
    },
    {
      "cell_type": "code",
      "metadata": {
        "id": "ewt52V5qyUJB"
      },
      "source": [
        "def to_categorical(y_data):\n",
        "  \"Converts outcome to categorical\"\n",
        "  return utils.to_categorical(y_data)\n",
        "\n",
        "y_train = to_categorical(y_train_base)\n",
        "y_dev = to_categorical(y_dev_base)\n",
        "y_test = to_categorical(y_test_base)\n",
        "y_earlybird = to_categorical(y_early_bird_base)"
      ],
      "execution_count": null,
      "outputs": []
    },
    {
      "cell_type": "markdown",
      "metadata": {
        "id": "rnLFfR78y_xQ"
      },
      "source": [
        "### Encode Model"
      ]
    },
    {
      "cell_type": "code",
      "metadata": {
        "id": "7aiY4TOtyUX0"
      },
      "source": [
        "def make_bert_layers():\n",
        "  \"Established Bert Process\"\n",
        "  bert_layer = hub.KerasLayer(\"https://tfhub.dev/tensorflow/bert_multi_cased_L-12_H-768_A-12/2\",\n",
        "                             trainable=True)\n",
        "  vocab_file = bert_layer.resolved_object.vocab_file.asset_path.numpy()\n",
        "  do_lower_case = bert_layer.resolved_object.do_lower_case.numpy()\n",
        "  tokenizer = tokenization.FullTokenizer(vocab_file, do_lower_case)\n",
        "  return bert_layer, vocab_file, do_lower_case, tokenizer\n",
        "\n",
        "def encode_names(tweet, tokenizer):\n",
        "   tokens = list(tokenizer.tokenize(tweet))\n",
        "   tokens.append('[SEP]')\n",
        "   return tokenizer.convert_tokens_to_ids(tokens)\n",
        "\n",
        "def bert_encode(string_list, tokenizer, max_seq_length):\n",
        "  num_examples = len(string_list)\n",
        "  \n",
        "  string_tokens = tf.ragged.constant([\n",
        "      encode_names(tweet, tokenizer) for tweet in np.array(string_list)])\n",
        "\n",
        "  cls = [tokenizer.convert_tokens_to_ids(['[CLS]'])]*string_tokens.shape[0]\n",
        "  input_word_ids = tf.concat([cls, string_tokens], axis=-1)\n",
        "\n",
        "  input_mask = tf.ones_like(input_word_ids).to_tensor(shape=(None, max_seq_length))\n",
        "\n",
        "  type_cls = tf.zeros_like(cls)\n",
        "  type_tokens = tf.ones_like(string_tokens)\n",
        "  input_type_ids = tf.concat(\n",
        "      [type_cls, type_tokens], axis=-1).to_tensor(shape=(None, max_seq_length))\n",
        "\n",
        "  inputs = {\n",
        "      'input_word_ids': input_word_ids.to_tensor(shape=(None, max_seq_length)),\n",
        "      'input_mask': input_mask,\n",
        "      'input_type_ids': input_type_ids}\n",
        "\n",
        "  return inputs"
      ],
      "execution_count": null,
      "outputs": []
    },
    {
      "cell_type": "markdown",
      "metadata": {
        "id": "KUmj2zKNzDgg"
      },
      "source": [
        "### Make Model"
      ]
    },
    {
      "cell_type": "code",
      "metadata": {
        "id": "k3rEkM2nzE39",
        "colab": {
          "base_uri": "https://localhost:8080/"
        },
        "outputId": "dab2c7d4-033b-4b4f-a387-fbbe4b01e380"
      },
      "source": [
        "def bert_model(max_length):\n",
        "  \"Makes Bert Model\"\n",
        "  bert_layer, vocab_file, do_lower_case, tokenizer= make_bert_layers()\n",
        "  num_class = 2  # Based on available class selection\n",
        "  max_length = max_length  # we calculated this a couple cells ago\n",
        "\n",
        "  input_word_ids = tf.keras.layers.Input(shape=(max_length,), dtype=tf.int32,\n",
        "                                       name=\"input_word_ids\")\n",
        "  input_mask = tf.keras.layers.Input(shape=(max_length,), dtype=tf.int32,\n",
        "                                   name=\"input_mask\")\n",
        "  segment_ids = tf.keras.layers.Input(shape=(max_length,), dtype=tf.int32,\n",
        "                                    name=\"segment_ids\")\n",
        "\n",
        "  pooled_output, sequence_output = bert_layer([input_word_ids, input_mask, segment_ids])                                \n",
        "\n",
        "  output = tf.keras.layers.Dropout(rate=0.15)(pooled_output)\n",
        "\n",
        "  output = tf.keras.layers.Dense(num_class, activation='sigmoid', name='output')(output)\n",
        "\n",
        "  model = tf.keras.Model(\n",
        "    inputs={\n",
        "        'input_word_ids': input_word_ids,\n",
        "        'input_mask': input_mask,\n",
        "        'input_type_ids': segment_ids\n",
        "        },\n",
        "        outputs=output)\n",
        "  return model, max_length, tokenizer\n",
        "model, max_length, tokenizer = bert_model(200)"
      ],
      "execution_count": null,
      "outputs": [
        {
          "output_type": "stream",
          "text": [
            "INFO:absl:Using /tmp/tfhub_modules to cache modules.\n",
            "INFO:absl:Downloading TF-Hub Module 'https://tfhub.dev/tensorflow/bert_multi_cased_L-12_H-768_A-12/2'.\n",
            "INFO:absl:Downloaded https://tfhub.dev/tensorflow/bert_multi_cased_L-12_H-768_A-12/2, Total size: 683.05MB\n",
            "INFO:absl:Downloaded TF-Hub Module 'https://tfhub.dev/tensorflow/bert_multi_cased_L-12_H-768_A-12/2'.\n"
          ],
          "name": "stderr"
        }
      ]
    },
    {
      "cell_type": "code",
      "metadata": {
        "id": "CIfK-fgkzFSC",
        "colab": {
          "base_uri": "https://localhost:8080/"
        },
        "outputId": "eb843f46-9952-4488-8e26-183dcc65938c"
      },
      "source": [
        "model.summary()"
      ],
      "execution_count": null,
      "outputs": [
        {
          "output_type": "stream",
          "text": [
            "Model: \"model\"\n",
            "__________________________________________________________________________________________________\n",
            "Layer (type)                    Output Shape         Param #     Connected to                     \n",
            "==================================================================================================\n",
            "input_word_ids (InputLayer)     [(None, 200)]        0                                            \n",
            "__________________________________________________________________________________________________\n",
            "input_mask (InputLayer)         [(None, 200)]        0                                            \n",
            "__________________________________________________________________________________________________\n",
            "segment_ids (InputLayer)        [(None, 200)]        0                                            \n",
            "__________________________________________________________________________________________________\n",
            "keras_layer (KerasLayer)        [(None, 768), (None, 177853441   input_word_ids[0][0]             \n",
            "                                                                 input_mask[0][0]                 \n",
            "                                                                 segment_ids[0][0]                \n",
            "__________________________________________________________________________________________________\n",
            "dropout (Dropout)               (None, 768)          0           keras_layer[0][0]                \n",
            "__________________________________________________________________________________________________\n",
            "output (Dense)                  (None, 2)            1538        dropout[0][0]                    \n",
            "==================================================================================================\n",
            "Total params: 177,854,979\n",
            "Trainable params: 177,854,978\n",
            "Non-trainable params: 1\n",
            "__________________________________________________________________________________________________\n"
          ],
          "name": "stdout"
        }
      ]
    },
    {
      "cell_type": "markdown",
      "metadata": {
        "id": "i6dIs1DwzQki"
      },
      "source": [
        "### Visualize Model"
      ]
    },
    {
      "cell_type": "code",
      "metadata": {
        "id": "jwFSbo0KzQB7",
        "colab": {
          "base_uri": "https://localhost:8080/",
          "height": 220
        },
        "outputId": "d7d9cb2d-f1e0-4943-a917-b404ebe3e178"
      },
      "source": [
        "tf.keras.utils.plot_model(model, show_shapes=True, dpi=48)"
      ],
      "execution_count": null,
      "outputs": [
        {
          "output_type": "execute_result",
          "data": {
            "image/png": "[encoded data removed]",
            "text/plain": [
              "<IPython.core.display.Image object>"
            ]
          },
          "metadata": {
            "tags": []
          },
          "execution_count": 11
        }
      ]
    },
    {
      "cell_type": "markdown",
      "metadata": {
        "id": "9XN-Kxqlzhgc"
      },
      "source": [
        "### Training Model Function"
      ]
    },
    {
      "cell_type": "code",
      "metadata": {
        "id": "ZOnk_SNdzcSE"
      },
      "source": [
        "def train_model_evaluate(X_train_encoded, X_dev_encoded, y_train, y_dev ,epochs, batch_size, loss_function):\n",
        "  \"Trains bert model\"\n",
        "  eval_batch_size = batch_size\n",
        "  train_data_size = len(y_train)\n",
        "  steps_per_epoch = int(train_data_size / batch_size)\n",
        "  num_train_steps = steps_per_epoch * epochs\n",
        "  warmup_steps = int(epochs * train_data_size * 0.1 / batch_size) \n",
        "  optimizer = nlp.optimization.create_optimizer(\n",
        "    2e-6, num_train_steps=num_train_steps, num_warmup_steps=warmup_steps)\n",
        "  model.compile(optimizer=optimizer,\n",
        "              loss=loss_function,\n",
        "              metrics=['accuracy'])\n",
        "  model_history = model.fit(X_train_encoded,  # using new training set\n",
        "                         y_train,  # using new training set\n",
        "                         epochs=epochs,\n",
        "                         batch_size=batch_size,\n",
        "                         validation_data=(X_dev_encoded, y_dev),  # using old test dataset\n",
        "                         verbose=1)\n",
        "  return model_history"
      ],
      "execution_count": null,
      "outputs": []
    },
    {
      "cell_type": "markdown",
      "metadata": {
        "id": "QJShHtVIz11z"
      },
      "source": [
        "### Evaluate Model Function"
      ]
    },
    {
      "cell_type": "code",
      "metadata": {
        "id": "fWcaKtqUz020"
      },
      "source": [
        "def evaluate_model(X_test_encoded, y_test, batch_size):\n",
        "  \"Evaluates on the test set\"\n",
        "  score, accuracy = model.evaluate(X_test_encoded, y_test, batch_size = batch_size)\n",
        "  return score, accuracy"
      ],
      "execution_count": null,
      "outputs": []
    },
    {
      "cell_type": "markdown",
      "metadata": {
        "id": "Phha-5qi09_x"
      },
      "source": [
        "## BERT without links"
      ]
    },
    {
      "cell_type": "markdown",
      "metadata": {
        "id": "WoNlTsD1zpOr"
      },
      "source": [
        "### Encode, Run, and Evaluate BERT Without Links"
      ]
    },
    {
      "cell_type": "code",
      "metadata": {
        "id": "Ik8NWWVe9G0F"
      },
      "source": [
        "X_train_base_no_links= np.array([re.sub(r\"http\\S+\", \"\", tweet) for tweet in X_train_base])\n",
        "X_dev_base_no_links = np.array([re.sub(r\"http\\S+\", \"\", tweet) for tweet in X_dev_base])\n",
        "X_test_base_no_links = np.array([re.sub(r\"http\\S+\", \"\", tweet) for tweet in X_test_base])"
      ],
      "execution_count": null,
      "outputs": []
    },
    {
      "cell_type": "code",
      "metadata": {
        "id": "-Cyw49PzzkkG"
      },
      "source": [
        "X_train_encoded_no_links = bert_encode(X_train_base_no_links, tokenizer, max_length)\n",
        "X_dev_encoded_no_links = bert_encode(X_dev_base_no_links, tokenizer, max_length)\n",
        "X_test_encoded_no_links = bert_encode(X_test_base_no_links, tokenizer, max_length)"
      ],
      "execution_count": null,
      "outputs": []
    },
    {
      "cell_type": "code",
      "metadata": {
        "id": "jS-ozYh_zk0H",
        "colab": {
          "base_uri": "https://localhost:8080/"
        },
        "outputId": "3a635710-b608-455e-ce8b-977ed081db90"
      },
      "source": [
        "model_history = train_model_evaluate(X_train_encoded_no_links,X_dev_encoded_no_links, y_train, y_dev, 3, 16, 'binary_crossentropy')"
      ],
      "execution_count": null,
      "outputs": [
        {
          "output_type": "stream",
          "text": [
            "INFO:absl:using Adamw optimizer\n",
            "INFO:absl:gradient_clip_norm=1.000000\n"
          ],
          "name": "stderr"
        },
        {
          "output_type": "stream",
          "text": [
            "Epoch 1/3\n",
            "17253/17253 [==============================] - 8364s 484ms/step - loss: 0.3934 - accuracy: 0.8141 - val_loss: 0.2067 - val_accuracy: 0.9324\n",
            "Epoch 2/3\n",
            "17253/17253 [==============================] - 8343s 484ms/step - loss: 0.1930 - accuracy: 0.9360 - val_loss: 0.1910 - val_accuracy: 0.9433\n",
            "Epoch 3/3\n",
            "17253/17253 [==============================] - 8358s 484ms/step - loss: 0.1710 - accuracy: 0.9467 - val_loss: 0.1917 - val_accuracy: 0.9458\n"
          ],
          "name": "stdout"
        }
      ]
    },
    {
      "cell_type": "code",
      "metadata": {
        "id": "91Y_zXZSzlFt"
      },
      "source": [
        "def plot_history(history):\n",
        "    acc = history.history['accuracy']\n",
        "    val_acc = history.history['val_accuracy']\n",
        "    loss = history.history['loss']\n",
        "    val_loss = history.history['val_loss']\n",
        "    x = range(1, len(acc) + 1)\n",
        "\n",
        "    plt.figure(figsize=(12, 5))\n",
        "    plt.subplot(1, 2, 1)\n",
        "    plt.plot(x, acc, 'b', label='Training acc')\n",
        "    plt.plot(x, val_acc, 'r', label='Validation acc')\n",
        "    plt.title('Training and validation accuracy')\n",
        "    plt.legend()\n",
        "    plt.subplot(1, 2, 2)\n",
        "    plt.plot(x, loss, 'b', label='Training loss')\n",
        "    plt.plot(x, val_loss, 'r', label='Validation loss')\n",
        "    plt.title('Training and validation loss')\n",
        "    plt.legend()"
      ],
      "execution_count": null,
      "outputs": []
    },
    {
      "cell_type": "code",
      "metadata": {
        "id": "n6OAahUS0QSX",
        "colab": {
          "base_uri": "https://localhost:8080/",
          "height": 336
        },
        "outputId": "a15a5983-0910-411f-b968-086f3ce0c670"
      },
      "source": [
        "plot_history(model_history)"
      ],
      "execution_count": null,
      "outputs": [
        {
          "output_type": "display_data",
          "data": {
            "image/png": "[encoded data removed]",
            "text/plain": [
              "<Figure size 864x360 with 2 Axes>"
            ]
          },
          "metadata": {
            "tags": [],
            "needs_background": "light"
          }
        }
      ]
    },
    {
      "cell_type": "code",
      "metadata": {
        "id": "5nrho-a_2HT2",
        "colab": {
          "base_uri": "https://localhost:8080/"
        },
        "outputId": "81bf748c-7373-446f-9779-3a400ed90cf8"
      },
      "source": [
        "test_score, test_accuracy = evaluate_model(X_test_encoded_no_links, y_test, 16)\n",
        "test_score, test_accuracy"
      ],
      "execution_count": null,
      "outputs": [
        {
          "output_type": "stream",
          "text": [
            "16500/16500 [==============================] - 2146s 130ms/step - loss: 0.7224 - accuracy: 0.8227\n"
          ],
          "name": "stdout"
        },
        {
          "output_type": "execute_result",
          "data": {
            "text/plain": [
              "(0.7223647832870483, 0.822731077671051)"
            ]
          },
          "metadata": {
            "tags": []
          },
          "execution_count": 19
        }
      ]
    },
    {
      "cell_type": "markdown",
      "metadata": {
        "id": "hDDONJ0C0oP8"
      },
      "source": [
        "### Save BERT Without Links"
      ]
    },
    {
      "cell_type": "code",
      "metadata": {
        "id": "mfz6Jkuh0qxJ"
      },
      "source": [
        "model_fname = 'bert_no_links'\n",
        "my_wd = '/content/gdrive/MyDrive/w266_bot_id_final_project/bot_id_pan/'\n",
        "\n",
        "model.save(os.path.join(my_wd, model_fname))"
      ],
      "execution_count": null,
      "outputs": []
    },
    {
      "cell_type": "markdown",
      "metadata": {
        "id": "VGidV3vE03eD"
      },
      "source": [
        "## BERT without Hashtags and @s"
      ]
    },
    {
      "cell_type": "markdown",
      "metadata": {
        "id": "v9m8vWfN28ej"
      },
      "source": [
        "### Encode, Run, and Evaluate BERT Model without Hashtags and @s"
      ]
    },
    {
      "cell_type": "code",
      "metadata": {
        "id": "ykL00gEh93k5"
      },
      "source": [
        "def remove_ats_and_hashtags(data):\n",
        "  data_no_ats = np.array([ tweet.replace('@', '') for tweet in data])\n",
        "  data_no_ats_no_hashtags = np.array([tweet.replace('#', '') for tweet in data_no_ats])\n",
        "  return data_no_ats_no_hashtags"
      ],
      "execution_count": null,
      "outputs": []
    },
    {
      "cell_type": "code",
      "metadata": {
        "id": "4ZZm1it31ZlE"
      },
      "source": [
        "X_train_base_no_ats_no_hashtags = remove_ats_and_hashtags(X_train_base)\n",
        "X_dev_base_no_ats_no_hashtags = remove_ats_and_hashtags(X_dev_base)\n",
        "X_test_base_no_ats_no_hashtags = remove_ats_and_hashtags(X_test_base)"
      ],
      "execution_count": null,
      "outputs": []
    },
    {
      "cell_type": "code",
      "metadata": {
        "id": "0JW8oH5s1Z7q"
      },
      "source": [
        "X_train_encoded_no_ats_no_hashtags = bert_encode(X_train_base_no_ats_no_hashtags, tokenizer, max_length)\n",
        "X_dev_encoded_no_ats_no_hashtags = bert_encode(X_dev_base_no_ats_no_hashtags, tokenizer, max_length)\n",
        "X_test_encoded_no_ats_no_hashtags = bert_encode(X_test_base_no_ats_no_hashtags, tokenizer, max_length)"
      ],
      "execution_count": null,
      "outputs": []
    },
    {
      "cell_type": "code",
      "metadata": {
        "id": "y75s6zc21v7n",
        "colab": {
          "base_uri": "https://localhost:8080/"
        },
        "outputId": "49ce7215-612c-49e6-f7e4-2e30d4aefb71"
      },
      "source": [
        "model_history = train_model_evaluate(X_train_encoded_no_ats_no_hashtags,X_dev_encoded_no_ats_no_hashtags, y_train, y_dev, 3, 16, 'binary_crossentropy')"
      ],
      "execution_count": null,
      "outputs": [
        {
          "output_type": "stream",
          "text": [
            "INFO:absl:using Adamw optimizer\n",
            "INFO:absl:gradient_clip_norm=1.000000\n"
          ],
          "name": "stderr"
        },
        {
          "output_type": "stream",
          "text": [
            "Epoch 1/3\n",
            "17253/17253 [==============================] - 8361s 484ms/step - loss: 0.2380 - accuracy: 0.9278 - val_loss: 0.1757 - val_accuracy: 0.9542\n",
            "Epoch 2/3\n",
            "17253/17253 [==============================] - 8355s 484ms/step - loss: 0.1430 - accuracy: 0.9607 - val_loss: 0.1624 - val_accuracy: 0.9608\n",
            "Epoch 3/3\n",
            "17253/17253 [==============================] - 8354s 484ms/step - loss: 0.1232 - accuracy: 0.9680 - val_loss: 0.1684 - val_accuracy: 0.9617\n"
          ],
          "name": "stdout"
        }
      ]
    },
    {
      "cell_type": "code",
      "metadata": {
        "id": "PkFkRca81wsf",
        "colab": {
          "base_uri": "https://localhost:8080/",
          "height": 336
        },
        "outputId": "f29e988e-3fcd-45e7-d413-f992db89600e"
      },
      "source": [
        "plot_history(model_history)"
      ],
      "execution_count": null,
      "outputs": [
        {
          "output_type": "display_data",
          "data": {
            "image/png": "[encoded data removed]",
            "text/plain": [
              "<Figure size 864x360 with 2 Axes>"
            ]
          },
          "metadata": {
            "tags": [],
            "needs_background": "light"
          }
        }
      ]
    },
    {
      "cell_type": "code",
      "metadata": {
        "id": "HE-SC_xS1yjJ",
        "colab": {
          "base_uri": "https://localhost:8080/"
        },
        "outputId": "55231036-516d-4c4d-ac23-276e956ebea3"
      },
      "source": [
        "test_score, test_accuracy = evaluate_model(X_test_encoded_no_ats_no_hashtags, y_test, 16)\n",
        "test_score, test_accuracy"
      ],
      "execution_count": null,
      "outputs": [
        {
          "output_type": "stream",
          "text": [
            "16500/16500 [==============================] - 2141s 130ms/step - loss: 0.8761 - accuracy: 0.8331\n"
          ],
          "name": "stdout"
        },
        {
          "output_type": "execute_result",
          "data": {
            "text/plain": [
              "(0.8760585784912109, 0.8331477046012878)"
            ]
          },
          "metadata": {
            "tags": []
          },
          "execution_count": 32
        }
      ]
    },
    {
      "cell_type": "markdown",
      "metadata": {
        "id": "DtRrKZN22xKo"
      },
      "source": [
        "### Save BERT Model without Hashtags and @s"
      ]
    },
    {
      "cell_type": "code",
      "metadata": {
        "id": "cQXBXFzt21qQ"
      },
      "source": [
        "model_fname = 'bert_no_ats_no_hashtags'\n",
        "my_wd = '/content/gdrive/MyDrive/w266_bot_id_final_project/bot_id_pan/'\n",
        "\n",
        "model.save(os.path.join(my_wd, model_fname))"
      ],
      "execution_count": null,
      "outputs": []
    }
  ]
}